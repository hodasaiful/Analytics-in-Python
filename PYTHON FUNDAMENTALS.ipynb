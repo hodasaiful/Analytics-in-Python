{
 "cells": [
  {
   "attachments": {
    "pyt.PNG": {
     "image/png": "[encoded data removed]"
    }
   },
   "cell_type": "markdown",
   "metadata": {},
   "source": [
    "![pyt.PNG](attachment:pyt.PNG)"
   ]
  },
  {
   "cell_type": "markdown",
   "metadata": {},
   "source": [
    "CONTENTS\n",
    "\n",
    "```\n",
    "\n",
    "**GETTING a HANG !**\n",
    "\n",
    "\n",
    "1 Variables\n",
    "2 Order of Operation\n",
    "3 Data Types \n",
    "4 Arithmetic Operators\n",
    "5 Comparison Operators \n",
    "6 Identity Operators \n",
    "7 Logical Operators\n",
    "\n",
    "\n",
    "**LOOPS in Python**\n",
    "\n",
    "\n",
    "1 For Loop\n",
    "2 Break \n",
    "3 Continue\n",
    "4 Range\n",
    "5 If-Else\n",
    "6 Nested if-else\n",
    "7 While Loop\n",
    "8 Last but not the least practise questions that touch upon every topic.\n",
    "\n",
    "**FUNCTIONS**\n",
    "\n",
    "\n",
    "1 Fruitful functions\n",
    "2 Void function\n",
    "\n",
    "\n",
    "**DATA STRUCTURES IN PYTHON**\n",
    "\n",
    "\n",
    "**LIST**\n",
    "\n",
    "1 Nomenclature\n",
    "2 Append\n",
    "3 Extend\n",
    "4 Insert\n",
    "5 Pop\n",
    "6 Remove\n",
    "7 Difference betweeen Sort and Sorted\n",
    "8 Shadow Copying\n",
    "9 List Indexing\n",
    "10 Manipulating Data in a List\n",
    "11 Slicing data in a List\n",
    "12 Practise questions\n",
    "\n",
    "\n",
    "**DICTIONARY**\n",
    "\n",
    "\n",
    "1 Nomenclature\n",
    "2 Operation on Dictionaries\n",
    "3 Iteration on the elements of a dictionary\n",
    "4 Usage of dictionary.items()\n",
    "5 Find the frequency of occurenece of a certain value\n",
    "\n",
    "**SETS**\n",
    "\n",
    "\n",
    "1 Nomenclature\n",
    "2 Union\n",
    "3 Intersection\n",
    "4 Difference\n",
    "5 Discard\n",
    "6 Remove\n",
    "7 Add\n",
    "8 Clear\n",
    "\n",
    "**TUPLE**\n",
    "\n",
    "\n",
    "1 Nomenclature\n",
    "2 Tuple assignment\n",
    "3 Operation on Tuples\n",
    "4 Conatenating Tuples\n",
    "5 Sorting Tupes\n",
    "\n",
    "\n",
    "**STRINGS**\n",
    "\n",
    "\n",
    "1 Nomenclature\n",
    "2 Subset and Index values in a String\n",
    "3 Dir and Help\n",
    "4 Parsing Strings\n",
    "5 Format Operators\n",
    "6 Remember, Practise makes a man perfect !\n",
    "\n",
    "\n",
    "**FILES AND REGULAR EXPRESSIONS**\n",
    "\n",
    "1 Idea behind files\n",
    "2 File handle\n",
    "3 Open \n",
    "4 Read\n",
    "5 Write\n",
    "6 Append\n",
    "7 Close\n",
    "8 Looping through the contents of a file \n",
    "\n",
    "\n",
    "**FILES AND REGULAR EXPRESSIONS**\n",
    "\n",
    "1 Idea behind regular expressions\n",
    "2 findall\n",
    "3 Search\n",
    "4 split\n",
    "5 sub\n",
    "\n",
    "\n",
    "**LAMBDA FUNCTIONS**\n",
    "\n",
    "1 Idea behind Lambda expressions\n",
    "2 map\n",
    "3 reduce\n",
    "4 filter\n",
    "\n",
    "```\n"
   ]
  },
  {
   "cell_type": "markdown",
   "metadata": {},
   "source": [
    "VARIABLES"
   ]
  },
  {
   "cell_type": "markdown",
   "metadata": {},
   "source": [
    "```\n",
    "1.  Variable is a name that refers to a value \n",
    "2.  Variable naming convention\n",
    "    1. Variable names can be arbitrarily long\n",
    "    2. Can contain both letters and numbers\n",
    "    3. Should not begin with a number\n",
    "    4. Should not contain an @ symbol\n",
    "3.  Variable name should not be the same as python keyword (reserved word)\n",
    "4.  There are 33 reserved words in python \n",
    "```"
   ]
  },
  {
   "cell_type": "markdown",
   "metadata": {},
   "source": [
    "Subject is the variable, python gets assigned to variable subject"
   ]
  },
  {
   "cell_type": "code",
   "execution_count": 2,
   "metadata": {},
   "outputs": [
    {
     "name": "stdout",
     "output_type": "stream",
     "text": [
      "Python\n"
     ]
    }
   ],
   "source": [
    "subject = \"Python\"\n",
    "print(subject)"
   ]
  },
  {
   "cell_type": "markdown",
   "metadata": {},
   "source": [
    "ORDER OF OPERATION"
   ]
  },
  {
   "cell_type": "markdown",
   "metadata": {},
   "source": [
    "When more than one operator appears in an expression, the order of evaluation depends on the rules of \n",
    "Precedence. THE acronym BODMAS (PEDMAS) is useful to remember the rules\n",
    "\n",
    "    1 Bracket\n",
    "    2 Of(paranthesis)\n",
    "    3 Division\n",
    "    4 Multiplication\n",
    "    5 Addition\n",
    "    6 Substraction\n",
    "\n",
    "\n",
    "When in doubt, always put the operation within parentheses to execute the computation in the order you intend.\n",
    "Python evaluates a mathematical expression from left to right, taking into account BODMAS rule\n",
    "\n",
    "For an exhaustive list - [refer](https://www.informit.com/articles/article.aspx?p=459269&seqNum=11)\n",
    "\n",
    "2**4/6-(8*1.5)+(6-2*3)\n",
    "=2**4/6-(12)+(6-6)\n",
    "=2**4/6-(12)+0\n",
    "=16/6-12\n",
    "=2.67-12\n"
   ]
  },
  {
   "cell_type": "code",
   "execution_count": 4,
   "metadata": {},
   "outputs": [
    {
     "data": {
      "text/plain": [
       "-9.333333333333334"
      ]
     },
     "execution_count": 4,
     "metadata": {},
     "output_type": "execute_result"
    }
   ],
   "source": [
    "2**4/6-(8*1.5)+(6-2*3)"
   ]
  },
  {
   "cell_type": "markdown",
   "metadata": {},
   "source": [
    "DATA TYPES"
   ]
  },
  {
   "cell_type": "markdown",
   "metadata": {},
   "source": [
    "In python; there is no requirement to explicily specify the data type whilst declaring a variable.\n",
    "Python does the heavy lifting and assigns the type to a variable based on the data assigned to it.\n",
    "\n",
    "A value within double quotes is assigned a type of Str (short for string)"
   ]
  },
  {
   "cell_type": "code",
   "execution_count": 4,
   "metadata": {},
   "outputs": [
    {
     "data": {
      "text/plain": [
       "str"
      ]
     },
     "execution_count": 4,
     "metadata": {},
     "output_type": "execute_result"
    }
   ],
   "source": [
    "a = \"what's in a name?\"\n",
    "type(a)"
   ]
  },
  {
   "cell_type": "code",
   "execution_count": 5,
   "metadata": {},
   "outputs": [
    {
     "data": {
      "text/plain": [
       "int"
      ]
     },
     "execution_count": 5,
     "metadata": {},
     "output_type": "execute_result"
    }
   ],
   "source": [
    "a = 5\n",
    "type(a)"
   ]
  },
  {
   "cell_type": "code",
   "execution_count": 6,
   "metadata": {},
   "outputs": [
    {
     "data": {
      "text/plain": [
       "float"
      ]
     },
     "execution_count": 6,
     "metadata": {},
     "output_type": "execute_result"
    }
   ],
   "source": [
    "a=5.5\n",
    "type(a)"
   ]
  },
  {
   "cell_type": "code",
   "execution_count": 7,
   "metadata": {},
   "outputs": [
    {
     "data": {
      "text/plain": [
       "bool"
      ]
     },
     "execution_count": 7,
     "metadata": {},
     "output_type": "execute_result"
    }
   ],
   "source": [
    "a =True\n",
    "type(a)"
   ]
  },
  {
   "cell_type": "code",
   "execution_count": 8,
   "metadata": {},
   "outputs": [
    {
     "data": {
      "text/plain": [
       "complex"
      ]
     },
     "execution_count": 8,
     "metadata": {},
     "output_type": "execute_result"
    }
   ],
   "source": [
    "a =5j\n",
    "type(a)"
   ]
  },
  {
   "cell_type": "markdown",
   "metadata": {},
   "source": [
    "ARITHMETIC OPERATORS"
   ]
  },
  {
   "cell_type": "code",
   "execution_count": 14,
   "metadata": {},
   "outputs": [
    {
     "data": {
      "text/plain": [
       "7"
      ]
     },
     "execution_count": 14,
     "metadata": {},
     "output_type": "execute_result"
    }
   ],
   "source": [
    "3+4"
   ]
  },
  {
   "cell_type": "code",
   "execution_count": 15,
   "metadata": {},
   "outputs": [
    {
     "data": {
      "text/plain": [
       "2"
      ]
     },
     "execution_count": 15,
     "metadata": {},
     "output_type": "execute_result"
    }
   ],
   "source": [
    "10-8"
   ]
  },
  {
   "cell_type": "code",
   "execution_count": 16,
   "metadata": {},
   "outputs": [
    {
     "data": {
      "text/plain": [
       "4.0"
      ]
     },
     "execution_count": 16,
     "metadata": {},
     "output_type": "execute_result"
    }
   ],
   "source": [
    "8/2"
   ]
  },
  {
   "cell_type": "code",
   "execution_count": 17,
   "metadata": {},
   "outputs": [
    {
     "data": {
      "text/plain": [
       "6"
      ]
     },
     "execution_count": 17,
     "metadata": {},
     "output_type": "execute_result"
    }
   ],
   "source": [
    "2*3"
   ]
  },
  {
   "cell_type": "code",
   "execution_count": 18,
   "metadata": {},
   "outputs": [
    {
     "data": {
      "text/plain": [
       "8"
      ]
     },
     "execution_count": 18,
     "metadata": {},
     "output_type": "execute_result"
    }
   ],
   "source": [
    "2**3"
   ]
  },
  {
   "cell_type": "code",
   "execution_count": 19,
   "metadata": {},
   "outputs": [
    {
     "data": {
      "text/plain": [
       "0"
      ]
     },
     "execution_count": 19,
     "metadata": {},
     "output_type": "execute_result"
    }
   ],
   "source": [
    "4%2"
   ]
  },
  {
   "cell_type": "code",
   "execution_count": 20,
   "metadata": {},
   "outputs": [
    {
     "data": {
      "text/plain": [
       "-4"
      ]
     },
     "execution_count": 20,
     "metadata": {},
     "output_type": "execute_result"
    }
   ],
   "source": [
    "-15//4"
   ]
  },
  {
   "cell_type": "markdown",
   "metadata": {},
   "source": [
    "COMPARISON OPEARTORS"
   ]
  },
  {
   "cell_type": "code",
   "execution_count": 21,
   "metadata": {},
   "outputs": [
    {
     "data": {
      "text/plain": [
       "True"
      ]
     },
     "execution_count": 21,
     "metadata": {},
     "output_type": "execute_result"
    }
   ],
   "source": [
    "'a' == 'a'"
   ]
  },
  {
   "cell_type": "code",
   "execution_count": 22,
   "metadata": {},
   "outputs": [
    {
     "data": {
      "text/plain": [
       "False"
      ]
     },
     "execution_count": 22,
     "metadata": {},
     "output_type": "execute_result"
    }
   ],
   "source": [
    "'a' != 'a'"
   ]
  },
  {
   "cell_type": "code",
   "execution_count": 23,
   "metadata": {},
   "outputs": [
    {
     "data": {
      "text/plain": [
       "True"
      ]
     },
     "execution_count": 23,
     "metadata": {},
     "output_type": "execute_result"
    }
   ],
   "source": [
    "5>3"
   ]
  },
  {
   "cell_type": "code",
   "execution_count": 24,
   "metadata": {},
   "outputs": [
    {
     "data": {
      "text/plain": [
       "True"
      ]
     },
     "execution_count": 24,
     "metadata": {},
     "output_type": "execute_result"
    }
   ],
   "source": [
    "3<5"
   ]
  },
  {
   "cell_type": "code",
   "execution_count": 25,
   "metadata": {},
   "outputs": [
    {
     "data": {
      "text/plain": [
       "True"
      ]
     },
     "execution_count": 25,
     "metadata": {},
     "output_type": "execute_result"
    }
   ],
   "source": [
    "5>=3"
   ]
  },
  {
   "cell_type": "code",
   "execution_count": 9,
   "metadata": {},
   "outputs": [
    {
     "data": {
      "text/plain": [
       "False"
      ]
     },
     "execution_count": 9,
     "metadata": {},
     "output_type": "execute_result"
    }
   ],
   "source": [
    "7 <= 4"
   ]
  },
  {
   "cell_type": "markdown",
   "metadata": {},
   "source": [
    "IDENTITY OPERATORS"
   ]
  },
  {
   "cell_type": "code",
   "execution_count": 36,
   "metadata": {},
   "outputs": [
    {
     "data": {
      "text/plain": [
       "False"
      ]
     },
     "execution_count": 36,
     "metadata": {},
     "output_type": "execute_result"
    }
   ],
   "source": [
    "x = 2\n",
    "z = 3\n",
    "\n",
    "x is z"
   ]
  },
  {
   "cell_type": "code",
   "execution_count": 37,
   "metadata": {},
   "outputs": [
    {
     "data": {
      "text/plain": [
       "True"
      ]
     },
     "execution_count": 37,
     "metadata": {},
     "output_type": "execute_result"
    }
   ],
   "source": [
    "x is not z"
   ]
  },
  {
   "cell_type": "markdown",
   "metadata": {},
   "source": [
    "LOGICAL OPERATORS"
   ]
  },
  {
   "cell_type": "code",
   "execution_count": 11,
   "metadata": {},
   "outputs": [
    {
     "data": {
      "text/plain": [
       "False"
      ]
     },
     "execution_count": 11,
     "metadata": {},
     "output_type": "execute_result"
    }
   ],
   "source": [
    "x = 2\n",
    "z = 3\n",
    "\n",
    "(x < 1) and (z > 1)"
   ]
  },
  {
   "cell_type": "code",
   "execution_count": 40,
   "metadata": {},
   "outputs": [
    {
     "data": {
      "text/plain": [
       "True"
      ]
     },
     "execution_count": 40,
     "metadata": {},
     "output_type": "execute_result"
    }
   ],
   "source": [
    "(x < 1) or (z > 1)"
   ]
  },
  {
   "cell_type": "code",
   "execution_count": 12,
   "metadata": {},
   "outputs": [
    {
     "data": {
      "text/plain": [
       "True"
      ]
     },
     "execution_count": 12,
     "metadata": {},
     "output_type": "execute_result"
    }
   ],
   "source": [
    "not((x < 1) and (z > 1))"
   ]
  },
  {
   "cell_type": "markdown",
   "metadata": {},
   "source": [
    "TYPES OF ERRORS"
   ]
  },
  {
   "cell_type": "markdown",
   "metadata": {},
   "source": [
    "Syntax Error"
   ]
  },
  {
   "cell_type": "markdown",
   "metadata": {},
   "source": [
    "The instruction supplied is not compliant with what python expects"
   ]
  },
  {
   "cell_type": "code",
   "execution_count": 13,
   "metadata": {},
   "outputs": [
    {
     "ename": "SyntaxError",
     "evalue": "unexpected EOF while parsing (<ipython-input-13-610f7bbd402e>, line 1)",
     "output_type": "error",
     "traceback": [
      "\u001b[1;36m  File \u001b[1;32m\"<ipython-input-13-610f7bbd402e>\"\u001b[1;36m, line \u001b[1;32m1\u001b[0m\n\u001b[1;33m    print(\"Today is a beautiful day\"\u001b[0m\n\u001b[1;37m                                     ^\u001b[0m\n\u001b[1;31mSyntaxError\u001b[0m\u001b[1;31m:\u001b[0m unexpected EOF while parsing\n"
     ]
    }
   ],
   "source": [
    "print(\"Today is a beautiful day\" "
   ]
  },
  {
   "cell_type": "markdown",
   "metadata": {},
   "source": [
    "Runtime Errors"
   ]
  },
  {
   "cell_type": "markdown",
   "metadata": {},
   "source": [
    "When a fundamentally wrong argument is supplied to python"
   ]
  },
  {
   "cell_type": "code",
   "execution_count": 8,
   "metadata": {},
   "outputs": [
    {
     "ename": "ZeroDivisionError",
     "evalue": "division by zero",
     "output_type": "error",
     "traceback": [
      "\u001b[1;31m---------------------------------------------------------------------------\u001b[0m",
      "\u001b[1;31mZeroDivisionError\u001b[0m                         Traceback (most recent call last)",
      "\u001b[1;32m<ipython-input-8-1f5f79ea92f5>\u001b[0m in \u001b[0;36m<module>\u001b[1;34m\u001b[0m\n\u001b[1;32m----> 1\u001b[1;33m \u001b[0mprint\u001b[0m\u001b[1;33m(\u001b[0m\u001b[1;34m\"The result of this operation is \"\u001b[0m\u001b[1;33m,\u001b[0m \u001b[1;36m3\u001b[0m\u001b[1;33m/\u001b[0m\u001b[1;36m0\u001b[0m\u001b[1;33m)\u001b[0m\u001b[1;33m\u001b[0m\u001b[1;33m\u001b[0m\u001b[0m\n\u001b[0m",
      "\u001b[1;31mZeroDivisionError\u001b[0m: division by zero"
     ]
    }
   ],
   "source": [
    "print(\"The result of this operation is \", 3/0)"
   ]
  },
  {
   "cell_type": "markdown",
   "metadata": {},
   "source": [
    "Semantic Erros"
   ]
  },
  {
   "cell_type": "markdown",
   "metadata": {},
   "source": [
    "The program executes but fails to produce the intended result\n",
    "Example - Below I should multiply the fraction with a 100 to get the percentage value"
   ]
  },
  {
   "cell_type": "code",
   "execution_count": 9,
   "metadata": {},
   "outputs": [
    {
     "name": "stdout",
     "output_type": "stream",
     "text": [
      "The percentade of pupil who passes in the exam is 0.5\n"
     ]
    }
   ],
   "source": [
    "print(\"The percentage of pupil who passes in the exam is\", 1/2)"
   ]
  },
  {
   "cell_type": "markdown",
   "metadata": {},
   "source": [
    "CONTROL STRUCTURE (LOOPS) in Python"
   ]
  },
  {
   "cell_type": "markdown",
   "metadata": {},
   "source": [
    "At this point- you may not be familiar with a list in which case; just follow along !"
   ]
  },
  {
   "cell_type": "markdown",
   "metadata": {},
   "source": [
    "IF-ELSE Loop"
   ]
  },
  {
   "attachments": {
    "if-else.png": {
     "image/png": "[encoded data removed]"
    }
   },
   "cell_type": "markdown",
   "metadata": {},
   "source": [
    "![if-else.png](attachment:if-else.png)"
   ]
  },
  {
   "cell_type": "markdown",
   "metadata": {},
   "source": [
    "Accept input from a user and print odd or even"
   ]
  },
  {
   "cell_type": "code",
   "execution_count": 45,
   "metadata": {},
   "outputs": [
    {
     "name": "stdout",
     "output_type": "stream",
     "text": [
      "Enter the number: 5\n",
      "Odd\n"
     ]
    }
   ],
   "source": [
    "n = int(input(\"Enter the number: \"))\n",
    "if n % 2 == 0:\n",
    "    print(\"Even\")\n",
    "else:\n",
    "    print(\"Odd\")"
   ]
  },
  {
   "cell_type": "markdown",
   "metadata": {},
   "source": [
    "NESTED IF-ELSE LOOP"
   ]
  },
  {
   "cell_type": "markdown",
   "metadata": {},
   "source": [
    "Accept two numbers from a user and print out the relation between them"
   ]
  },
  {
   "cell_type": "code",
   "execution_count": 46,
   "metadata": {},
   "outputs": [
    {
     "name": "stdout",
     "output_type": "stream",
     "text": [
      "Enter a number4\n",
      "Enter a number5\n",
      "4  is smaller than 5\n"
     ]
    }
   ],
   "source": [
    "x = int(input(\"Enter a number\"))\n",
    "y = int(input(\"Enter a number\"))\n",
    "if x == y:\n",
    "    print(\"The numbers are equal\")\n",
    "else:\n",
    "    if x > y:\n",
    "        print(x, \"is greater than\", y)\n",
    "    else:\n",
    "        print(x,\" is smaller than\", y)"
   ]
  },
  {
   "cell_type": "markdown",
   "metadata": {},
   "source": [
    "WHILE LOOP\n",
    "    \n",
    "A while loop evaluates a condition, It continues to exeute the loop until the condition evaluates to true and\n",
    "exits out when the condition no longer holds true \n"
   ]
  },
  {
   "attachments": {
    "while.png": {
     "image/png": "[encoded data removed]"
    }
   },
   "cell_type": "markdown",
   "metadata": {},
   "source": [
    "![while.png](attachment:while.png)"
   ]
  },
  {
   "cell_type": "markdown",
   "metadata": {},
   "source": [
    "Example"
   ]
  },
  {
   "cell_type": "code",
   "execution_count": 51,
   "metadata": {},
   "outputs": [
    {
     "name": "stdout",
     "output_type": "stream",
     "text": [
      "The count is 5 So we continue\n",
      "The count is 4 So we continue\n",
      "The count is 3 So we continue\n",
      "The count is 2 So we continue\n",
      "The count is 1 So we continue\n"
     ]
    }
   ],
   "source": [
    "n = 5\n",
    "while n > 0:\n",
    "    print(\"The count is\", n, \"So we continue\")\n",
    "    n =n-1"
   ]
  },
  {
   "cell_type": "markdown",
   "metadata": {},
   "source": [
    "The below is an illustartion of while loop and similar to what we see in an atm machine\n",
    "\n",
    "Write a program that checks if the entered by a user matches a certain number - say 1234\n",
    "If the pin does not match 1234; ask user to re-enter the pin\n",
    "If the total number of trials in greater than equal to 3; exit out and display an error message"
   ]
  },
  {
   "cell_type": "code",
   "execution_count": null,
   "metadata": {},
   "outputs": [],
   "source": [
    "import sys\n",
    "pin = input(\"Enter the four digit pin: \")\n",
    "attempts = 1\n",
    "while pin != '1234':\n",
    "    if attempts >=3:\n",
    "        sys.exit(\"You've exhausted the maximum number of tries\")\n",
    "    pin = input(\"re -enter the Pin: \")\n",
    "    attempts += 1\n",
    "print(\"Pin validation Successful\");"
   ]
  },
  {
   "cell_type": "markdown",
   "metadata": {},
   "source": [
    "FOR Loop"
   ]
  },
  {
   "cell_type": "markdown",
   "metadata": {},
   "source": [
    "Iterate over and print all the elements of a List"
   ]
  },
  {
   "cell_type": "code",
   "execution_count": 78,
   "metadata": {},
   "outputs": [
    {
     "name": "stdout",
     "output_type": "stream",
     "text": [
      "1\n",
      "2\n",
      "3\n",
      "4\n",
      "5\n",
      "6\n",
      "7\n",
      "8\n",
      "9\n"
     ]
    }
   ],
   "source": [
    "number = [1,2,3,4,5,6,7,8,9]\n",
    "for x in number:\n",
    "    print(x)"
   ]
  },
  {
   "cell_type": "markdown",
   "metadata": {},
   "source": [
    "Add some fancy formatting to a for loop and print horizontally"
   ]
  },
  {
   "cell_type": "code",
   "execution_count": 77,
   "metadata": {},
   "outputs": [
    {
     "name": "stdout",
     "output_type": "stream",
     "text": [
      "1**2**3**4**5**6**7**8**9**"
     ]
    }
   ],
   "source": [
    "number = [1,2,3,4,5,6,7,8,9]\n",
    "for x in number:\n",
    "    print(x, end =\"**\")"
   ]
  },
  {
   "cell_type": "markdown",
   "metadata": {},
   "source": [
    "Use  a Break statement to exit out of a for loop"
   ]
  },
  {
   "cell_type": "code",
   "execution_count": 64,
   "metadata": {},
   "outputs": [
    {
     "name": "stdout",
     "output_type": "stream",
     "text": [
      "1\n",
      "2\n",
      "3\n"
     ]
    }
   ],
   "source": [
    "number = [1,2,3,4,5,6,7,8,9]\n",
    "for x in number:\n",
    "    if x == 4:\n",
    "        break\n",
    "    print(x)"
   ]
  },
  {
   "cell_type": "markdown",
   "metadata": {},
   "source": [
    "Use a Continue statement to pause and resume a for loop"
   ]
  },
  {
   "cell_type": "code",
   "execution_count": 70,
   "metadata": {},
   "outputs": [
    {
     "name": "stdout",
     "output_type": "stream",
     "text": [
      "1\n",
      "2\n",
      "3\n",
      "5\n",
      "6\n",
      "7\n",
      "8\n",
      "9\n"
     ]
    }
   ],
   "source": [
    "number = [1,2,3,4,5,6,7,8,9]\n",
    "for x in number:\n",
    "    if x == 4:\n",
    "        continue\n",
    "    print(x)"
   ]
  },
  {
   "cell_type": "markdown",
   "metadata": {},
   "source": [
    "LOOP USING RANGE"
   ]
  },
  {
   "cell_type": "markdown",
   "metadata": {},
   "source": [
    "Pass a positive integer as parameter to the range function\n"
   ]
  },
  {
   "cell_type": "code",
   "execution_count": 71,
   "metadata": {},
   "outputs": [
    {
     "name": "stdout",
     "output_type": "stream",
     "text": [
      "0\n",
      "1\n",
      "2\n"
     ]
    }
   ],
   "source": [
    "for x in range(3):\n",
    "    print(x)"
   ]
  },
  {
   "cell_type": "markdown",
   "metadata": {},
   "source": [
    "Pass a floor and ceiling value to the range function "
   ]
  },
  {
   "cell_type": "code",
   "execution_count": 72,
   "metadata": {},
   "outputs": [
    {
     "name": "stdout",
     "output_type": "stream",
     "text": [
      "2\n",
      "3\n",
      "4\n",
      "5\n",
      "6\n"
     ]
    }
   ],
   "source": [
    "for x in range(2,7):\n",
    "    print(x)"
   ]
  },
  {
   "cell_type": "markdown",
   "metadata": {},
   "source": [
    "Pass a floor, ceiling and step values to a range function  "
   ]
  },
  {
   "cell_type": "code",
   "execution_count": 81,
   "metadata": {},
   "outputs": [
    {
     "name": "stdout",
     "output_type": "stream",
     "text": [
      "2\n",
      "4\n",
      "6\n",
      "8\n"
     ]
    }
   ],
   "source": [
    "for x in range(2,9,2):\n",
    "    print(x)"
   ]
  },
  {
   "cell_type": "markdown",
   "metadata": {},
   "source": [
    "FUNCTIONS IN PYTHON"
   ]
  },
  {
   "cell_type": "markdown",
   "metadata": {},
   "source": [
    "- Creating a new function enables you to group a bunch of statements together under a name(function name). \n",
    "- Functions makes the program easier to read, understand and debug\n",
    "- Functions make a program smaller by eliminating repetitive code.\n",
    "- Function starts with the key word ‘def’, is followed by the function name, arguments within closed brackets, \n",
    "  and a colon def function_name():"
   ]
  },
  {
   "cell_type": "markdown",
   "metadata": {},
   "source": [
    "There 2 parts to a function; \n",
    "- Define\n",
    "- Invoke\n",
    "\n",
    "There are two types of functions; \n",
    "\n",
    "- Functions that return a value (fruitful) \n",
    "- Functions that do not return a value (void)"
   ]
  },
  {
   "attachments": {
    "functions.PNG": {
     "image/png": "[encoded data removed]"
    }
   },
   "cell_type": "markdown",
   "metadata": {},
   "source": [
    "![functions.PNG](attachment:functions.PNG)"
   ]
  },
  {
   "cell_type": "markdown",
   "metadata": {},
   "source": [
    "Write a function to calculate the factorial of a number"
   ]
  },
  {
   "cell_type": "code",
   "execution_count": 84,
   "metadata": {},
   "outputs": [
    {
     "data": {
      "text/plain": [
       "120"
      ]
     },
     "execution_count": 84,
     "metadata": {},
     "output_type": "execute_result"
    }
   ],
   "source": [
    "def factorial(n):\n",
    "    fact = 1\n",
    "    for i in range(1,n+1):\n",
    "        fact = fact * i\n",
    "    return fact\n",
    "\n",
    "factorial(5)"
   ]
  },
  {
   "cell_type": "markdown",
   "metadata": {},
   "source": [
    " <font black = maroon>Function Arguments"
   ]
  },
  {
   "cell_type": "code",
   "execution_count": 4,
   "metadata": {},
   "outputs": [
    {
     "ename": "TypeError",
     "evalue": "sum() missing 1 required positional argument: 'b'",
     "output_type": "error",
     "traceback": [
      "\u001b[1;31m---------------------------------------------------------------------------\u001b[0m",
      "\u001b[1;31mTypeError\u001b[0m                                 Traceback (most recent call last)",
      "\u001b[1;32m<ipython-input-4-fdee6a4b55ff>\u001b[0m in \u001b[0;36m<module>\u001b[1;34m\u001b[0m\n\u001b[0;32m      7\u001b[0m \u001b[1;33m\u001b[0m\u001b[0m\n\u001b[0;32m      8\u001b[0m \u001b[1;31m#In case, the positional arguments doe not match; python returns an error as below\u001b[0m\u001b[1;33m\u001b[0m\u001b[1;33m\u001b[0m\u001b[1;33m\u001b[0m\u001b[0m\n\u001b[1;32m----> 9\u001b[1;33m \u001b[0msum\u001b[0m\u001b[1;33m(\u001b[0m\u001b[1;36m3\u001b[0m\u001b[1;33m)\u001b[0m\u001b[1;33m\u001b[0m\u001b[1;33m\u001b[0m\u001b[0m\n\u001b[0m",
      "\u001b[1;31mTypeError\u001b[0m: sum() missing 1 required positional argument: 'b'"
     ]
    }
   ],
   "source": [
    "#The function accepts two positional arguments\n",
    "def sum(a,b):\n",
    "    return a+b\n",
    "\n",
    "#The two positional arguments need to supplied at the time of invoking a function \n",
    "sum(3,4)\n",
    "\n",
    "#In case, the positional arguments do not match; python returns an error as below\n",
    "sum(3)"
   ]
  },
  {
   "cell_type": "markdown",
   "metadata": {},
   "source": [
    "DATA STRUCTURES IN PYTHON"
   ]
  },
  {
   "cell_type": "markdown",
   "metadata": {},
   "source": [
    "LISTS\n",
    "\n",
    "An ordered mutable collection of objects"
   ]
  },
  {
   "cell_type": "markdown",
   "metadata": {},
   "source": [
    "- Lists are dynamic and can grow/shrink on demand \n",
    "- There is no need to pre-declare a list before using it to store objects\n",
    "- Lists are heterogeneous – objects of different types can be stored in a list.\n",
    "- Lists are mutable – we can change a list by adding, removing or changing objects.\n",
    "- Lists are always enclosed in square brackets\n",
    "- The objects contained within a list are separated by a comma\n",
    "- It stores duplicate values.\n"
   ]
  },
  {
   "cell_type": "code",
   "execution_count": 12,
   "metadata": {},
   "outputs": [
    {
     "data": {
      "text/plain": [
       "[]"
      ]
     },
     "execution_count": 12,
     "metadata": {},
     "output_type": "execute_result"
    }
   ],
   "source": [
    "#Create an empty list\n",
    "A = []\n",
    "A"
   ]
  },
  {
   "cell_type": "code",
   "execution_count": 13,
   "metadata": {},
   "outputs": [
    {
     "data": {
      "text/plain": [
       "list"
      ]
     },
     "execution_count": 13,
     "metadata": {},
     "output_type": "execute_result"
    }
   ],
   "source": [
    "type(A)"
   ]
  },
  {
   "cell_type": "code",
   "execution_count": 15,
   "metadata": {},
   "outputs": [
    {
     "data": {
      "text/plain": [
       "[12, 'December', 2012, 56.2]"
      ]
     },
     "execution_count": 15,
     "metadata": {},
     "output_type": "execute_result"
    }
   ],
   "source": [
    "#Create a list with values\n",
    "AList = [12,\"December\", 2012, 56.2]\n",
    "AList"
   ]
  },
  {
   "cell_type": "code",
   "execution_count": 10,
   "metadata": {},
   "outputs": [
    {
     "data": {
      "text/plain": [
       "list"
      ]
     },
     "execution_count": 10,
     "metadata": {},
     "output_type": "execute_result"
    }
   ],
   "source": [
    "type(AList)"
   ]
  },
  {
   "attachments": {
    "indx.PNG": {
     "image/png": "[encoded data removed]"
    }
   },
   "cell_type": "markdown",
   "metadata": {},
   "source": [
    "How does a list store objects?\n",
    "Objects in alist are stored in individual slots referred as index. Index position starts from 0 and goes uptill\n",
    "a value of n-1, n being the number of object\n",
    "\n",
    "![indx.PNG](attachment:indx.PNG)\n"
   ]
  },
  {
   "cell_type": "markdown",
   "metadata": {},
   "source": [
    "Processing Data in a List\n",
    "\n",
    "Lists are mutable, data can be added into and subtracted from a List. \n",
    "Operations performed on a list can cause the List to either grow or shrink in size.\n",
    "\n",
    "Grow operations\n",
    "\n",
    "- Append\n",
    "- Extend\n",
    "- Insert \n",
    "\n",
    "Shrink operations\n",
    "- Remove\n",
    "- Pop\n"
   ]
  },
  {
   "cell_type": "markdown",
   "metadata": {},
   "source": [
    " <font black = maroon>APPEND\n",
    "    \n",
    "Append is most commonly used to add values to a python list at runtime i.e during the course of execution of a program.\n"
   ]
  },
  {
   "cell_type": "markdown",
   "metadata": {},
   "source": [
    "In the below\n",
    "- create an emplty list L\n",
    "- define a list vowels \n",
    "- check if the element appears in the list\n",
    "- append the value if it appears in the list"
   ]
  },
  {
   "cell_type": "code",
   "execution_count": 19,
   "metadata": {},
   "outputs": [
    {
     "data": {
      "text/plain": [
       "['e']"
      ]
     },
     "execution_count": 19,
     "metadata": {},
     "output_type": "execute_result"
    }
   ],
   "source": [
    "L = []\n",
    "vowels = ['a','e','i','o','u',\"A\",\"E\",\"I\",\"O\",\"U\"]\n",
    "\n",
    "if 'e' in vowels:\n",
    "    L.append('e')\n",
    "    \n",
    "L"
   ]
  },
  {
   "cell_type": "markdown",
   "metadata": {},
   "source": [
    "- The same logic can be applied to check an append values to a list at runtime"
   ]
  },
  {
   "cell_type": "code",
   "execution_count": 24,
   "metadata": {},
   "outputs": [
    {
     "name": "stdout",
     "output_type": "stream",
     "text": [
      "Enter the string: Aeroplane\n",
      "List of vowels in Aeroplane is ['A', 'e', 'o', 'a', 'e']\n"
     ]
    }
   ],
   "source": [
    "string = input(\"Enter the string: \")\n",
    "vowels = ['a','e','i','o','u',\"A\",\"E\",\"I\",\"O\",\"U\"]\n",
    "L = []\n",
    "\n",
    "for i in string:\n",
    "    if i in vowels:\n",
    "        L.append(i)\n",
    "print(\"List of vowels in\",string, \"is\", L)\n",
    "    \n",
    "    "
   ]
  },
  {
   "cell_type": "markdown",
   "metadata": {},
   "source": [
    " <font black = maroon>EXTEND values of a List  (Argument:object to add)\n",
    "\n",
    "- Extend method takes a second list and adds each of its objects to an existing List.\n",
    "- Could be used for combining lists  List1.extend([list2])\n",
    "- Objects get added to the end.\n",
    "\n",
    "    \n",
    "    "
   ]
  },
  {
   "cell_type": "code",
   "execution_count": 8,
   "metadata": {},
   "outputs": [
    {
     "data": {
      "text/plain": [
       "[2, 4, 6, 2, 4, 6]"
      ]
     },
     "execution_count": 8,
     "metadata": {},
     "output_type": "execute_result"
    }
   ],
   "source": [
    "A = [2,4,6]\n",
    "B = [2,4,6]\n",
    "A.extend(B)\n",
    "A"
   ]
  },
  {
   "cell_type": "markdown",
   "metadata": {},
   "source": [
    " <font color = black>INSERT  values into a List (Argument : an index value and list of objects)\n",
    "   \n",
    "Insert objects at a given index position   \n"
   ]
  },
  {
   "cell_type": "code",
   "execution_count": 11,
   "metadata": {},
   "outputs": [
    {
     "data": {
      "text/plain": [
       "[2, [2, 4, 6], 4, 6]"
      ]
     },
     "execution_count": 11,
     "metadata": {},
     "output_type": "execute_result"
    }
   ],
   "source": [
    "A = [2,4,6]\n",
    "A.insert(1,[2,4,6])\n",
    "A"
   ]
  },
  {
   "cell_type": "markdown",
   "metadata": {},
   "source": [
    " <font color = maroon> REMOVE objects from a List (Argument : object to be removed)\n",
    "    \n",
    "    \n",
    "- Removes the first occurrence of a specified data value from a list.\n",
    "- If the object passed as an argument to the remove method is found, the object gets removed by 1 and the size   of the list shrinks by 1 . \n",
    "- If the object is not found, Python (interpreter) raises an exception\n",
    "\n"
   ]
  },
  {
   "cell_type": "code",
   "execution_count": 14,
   "metadata": {},
   "outputs": [
    {
     "data": {
      "text/plain": [
       "[4, 6]"
      ]
     },
     "execution_count": 14,
     "metadata": {},
     "output_type": "execute_result"
    }
   ],
   "source": [
    "A = [2,4,6]\n",
    "A.remove(2)\n",
    "A"
   ]
  },
  {
   "cell_type": "code",
   "execution_count": 15,
   "metadata": {},
   "outputs": [
    {
     "ename": "ValueError",
     "evalue": "list.remove(x): x not in list",
     "output_type": "error",
     "traceback": [
      "\u001b[1;31m---------------------------------------------------------------------------\u001b[0m",
      "\u001b[1;31mValueError\u001b[0m                                Traceback (most recent call last)",
      "\u001b[1;32m<ipython-input-15-34251fa5abd4>\u001b[0m in \u001b[0;36m<module>\u001b[1;34m\u001b[0m\n\u001b[0;32m      1\u001b[0m \u001b[0mA\u001b[0m \u001b[1;33m=\u001b[0m \u001b[1;33m[\u001b[0m\u001b[1;36m2\u001b[0m\u001b[1;33m,\u001b[0m\u001b[1;36m4\u001b[0m\u001b[1;33m,\u001b[0m\u001b[1;36m6\u001b[0m\u001b[1;33m]\u001b[0m\u001b[1;33m\u001b[0m\u001b[1;33m\u001b[0m\u001b[0m\n\u001b[1;32m----> 2\u001b[1;33m \u001b[0mA\u001b[0m\u001b[1;33m.\u001b[0m\u001b[0mremove\u001b[0m\u001b[1;33m(\u001b[0m\u001b[1;36m5\u001b[0m\u001b[1;33m)\u001b[0m\u001b[1;33m\u001b[0m\u001b[1;33m\u001b[0m\u001b[0m\n\u001b[0m\u001b[0;32m      3\u001b[0m \u001b[0mA\u001b[0m\u001b[1;33m\u001b[0m\u001b[1;33m\u001b[0m\u001b[0m\n",
      "\u001b[1;31mValueError\u001b[0m: list.remove(x): x not in list"
     ]
    }
   ],
   "source": [
    "A = [2,4,6]\n",
    "A.remove(5)\n",
    "A"
   ]
  },
  {
   "cell_type": "markdown",
   "metadata": {},
   "source": [
    " <font color = maroon>POP objects off a List (Argument : “optional” index value)\n",
    "    \n",
    "- Pop method removes and returns an object from the existing list based on the object’s index value\n",
    "- If no index value is passed to a Pop, the object from the right (last) is removed and returned\n",
    "- The list shrinks in size following a successful Pop operation \n",
    "- If the List is empty and a Pop method is invoked, that results in an error\n"
   ]
  },
  {
   "cell_type": "code",
   "execution_count": 17,
   "metadata": {},
   "outputs": [
    {
     "data": {
      "text/plain": [
       "4"
      ]
     },
     "execution_count": 17,
     "metadata": {},
     "output_type": "execute_result"
    }
   ],
   "source": [
    "A = [2,4,6]\n",
    "A.pop(1)"
   ]
  },
  {
   "cell_type": "code",
   "execution_count": 19,
   "metadata": {},
   "outputs": [
    {
     "data": {
      "text/plain": [
       "6"
      ]
     },
     "execution_count": 19,
     "metadata": {},
     "output_type": "execute_result"
    }
   ],
   "source": [
    "A = [2,4,6]\n",
    "A.pop()"
   ]
  },
  {
   "cell_type": "code",
   "execution_count": 20,
   "metadata": {},
   "outputs": [
    {
     "ename": "IndexError",
     "evalue": "pop from empty list",
     "output_type": "error",
     "traceback": [
      "\u001b[1;31m---------------------------------------------------------------------------\u001b[0m",
      "\u001b[1;31mIndexError\u001b[0m                                Traceback (most recent call last)",
      "\u001b[1;32m<ipython-input-20-89903deed3a7>\u001b[0m in \u001b[0;36m<module>\u001b[1;34m\u001b[0m\n\u001b[0;32m      1\u001b[0m \u001b[0mA\u001b[0m \u001b[1;33m=\u001b[0m \u001b[1;33m[\u001b[0m\u001b[1;33m]\u001b[0m\u001b[1;33m\u001b[0m\u001b[1;33m\u001b[0m\u001b[0m\n\u001b[1;32m----> 2\u001b[1;33m \u001b[0mA\u001b[0m\u001b[1;33m.\u001b[0m\u001b[0mpop\u001b[0m\u001b[1;33m(\u001b[0m\u001b[1;33m)\u001b[0m\u001b[1;33m\u001b[0m\u001b[1;33m\u001b[0m\u001b[0m\n\u001b[0m",
      "\u001b[1;31mIndexError\u001b[0m: pop from empty list"
     ]
    }
   ],
   "source": [
    "A = []\n",
    "A.pop()"
   ]
  },
  {
   "cell_type": "markdown",
   "metadata": {},
   "source": [
    "LIST INDEXING"
   ]
  },
  {
   "attachments": {
    "indexing.PNG": {
     "image/png": "[encoded data removed]"
    }
   },
   "cell_type": "markdown",
   "metadata": {},
   "source": [
    "![indexing.PNG](attachment:indexing.PNG)"
   ]
  },
  {
   "cell_type": "code",
   "execution_count": 28,
   "metadata": {},
   "outputs": [
    {
     "name": "stdout",
     "output_type": "stream",
     "text": [
      "['P', 'y', 't', 'h', 'o', 'n', ' ', 'F', 'o', 'r', ' ', 'F', 'i', 'n', 'a', 'n', 'c', 'e', ' ']\n"
     ]
    }
   ],
   "source": [
    "a = list(\"Python For Finance \")\n",
    "print(a)"
   ]
  },
  {
   "cell_type": "code",
   "execution_count": 26,
   "metadata": {},
   "outputs": [
    {
     "data": {
      "text/plain": [
       "'P'"
      ]
     },
     "execution_count": 26,
     "metadata": {},
     "output_type": "execute_result"
    }
   ],
   "source": [
    "#the first element\n",
    "a[0]"
   ]
  },
  {
   "cell_type": "code",
   "execution_count": 29,
   "metadata": {},
   "outputs": [
    {
     "data": {
      "text/plain": [
       "' '"
      ]
     },
     "execution_count": 29,
     "metadata": {},
     "output_type": "execute_result"
    }
   ],
   "source": [
    "#the last element\n",
    "a[-1]"
   ]
  },
  {
   "cell_type": "code",
   "execution_count": 30,
   "metadata": {},
   "outputs": [
    {
     "data": {
      "text/plain": [
       "19"
      ]
     },
     "execution_count": 30,
     "metadata": {},
     "output_type": "execute_result"
    }
   ],
   "source": [
    "#length of the string\n",
    "len(a)"
   ]
  },
  {
   "cell_type": "markdown",
   "metadata": {},
   "source": [
    "<font color = maroon>SUBSET VALUES USING LIST INDEXING\n",
    "    \n",
    "- Denoted as List[Start:Stop:Step], the start and Stop, mark the boundary and step determines the interval\n",
    "- All the 3 values are optional\n",
    "- Missing start value implies a default of 0\n",
    "- Missing Stop value takes the maximum value (n-1, for a list with n objects)\n",
    "- Missing value of Step implies an interval of 1\n"
   ]
  },
  {
   "cell_type": "code",
   "execution_count": 34,
   "metadata": {},
   "outputs": [
    {
     "name": "stdout",
     "output_type": "stream",
     "text": [
      "['P', 'y', 't', 'h', 'o', 'n', ' ', 'F', 'o', 'r', ' ', 'F', 'i', 'n', 'a', 'n', 'c', 'e', ' ']\n"
     ]
    }
   ],
   "source": [
    "print(a[::])"
   ]
  },
  {
   "cell_type": "code",
   "execution_count": 32,
   "metadata": {},
   "outputs": [
    {
     "data": {
      "text/plain": [
       "['P', 'y', 't', 'h', 'o', 'n']"
      ]
     },
     "execution_count": 32,
     "metadata": {},
     "output_type": "execute_result"
    }
   ],
   "source": [
    "#extract the word - Python\n",
    "a[:6]"
   ]
  },
  {
   "cell_type": "code",
   "execution_count": 37,
   "metadata": {},
   "outputs": [
    {
     "data": {
      "text/plain": [
       "['P', 'y', 't', 'h', 'o', 'n']"
      ]
     },
     "execution_count": 37,
     "metadata": {},
     "output_type": "execute_result"
    }
   ],
   "source": [
    "#negative indexing\n",
    "a[-19:-13]"
   ]
  },
  {
   "cell_type": "code",
   "execution_count": 41,
   "metadata": {},
   "outputs": [
    {
     "name": "stdout",
     "output_type": "stream",
     "text": [
      "[' ', 'e', 'c', 'n', 'a', 'n', 'i', 'F', ' ', 'r', 'o', 'F', ' ', 'n', 'o', 'h', 't', 'y', 'P']\n"
     ]
    }
   ],
   "source": [
    "#print the list backwards\n",
    "print(a[::-1])"
   ]
  },
  {
   "cell_type": "code",
   "execution_count": 42,
   "metadata": {},
   "outputs": [
    {
     "data": {
      "text/plain": [
       "['P', 't', 'o', ' ', 'o', ' ', 'i', 'a', 'c', ' ']"
      ]
     },
     "execution_count": 42,
     "metadata": {},
     "output_type": "execute_result"
    }
   ],
   "source": [
    "#print every second letter\n",
    "a[::2]"
   ]
  },
  {
   "cell_type": "code",
   "execution_count": 44,
   "metadata": {},
   "outputs": [
    {
     "data": {
      "text/plain": [
       "'Python'"
      ]
     },
     "execution_count": 44,
     "metadata": {},
     "output_type": "execute_result"
    }
   ],
   "source": [
    "#extract the word python and remove the spaces to make it presentable\n",
    "''.join(a[-19:-13])"
   ]
  },
  {
   "cell_type": "markdown",
   "metadata": {},
   "source": [
    "Prompt a user for an input; and return the number of vowels and consonants in it\n",
    "\n",
    "- Special characters should be omitted (A-Z & a-z are taken into account)\n",
    "- Python is case-sensitive, that needs to be taken into account\n"
   ]
  },
  {
   "cell_type": "code",
   "execution_count": 203,
   "metadata": {},
   "outputs": [
    {
     "name": "stdout",
     "output_type": "stream",
     "text": [
      "Enter the word: aeroplane\n",
      "\n",
      "\n",
      "Number of vowels is:  5 \n",
      "The vowels are a,e,o,a,e\n",
      "\n",
      "Number of vowels is:  4 \n",
      "The consonants are r,p,l,n\n"
     ]
    }
   ],
   "source": [
    "word = input(\"Enter the word: \").lower()\n",
    "vowels = ['a','e','i','o','u']\n",
    "iscons = 0\n",
    "isvow = 0\n",
    "consonants = []\n",
    "vowel = []\n",
    "for x in word:\n",
    "    if ord(x) > 64 and ord(x)<123 and ord(x) not in (91,92,93,94,95,96):\n",
    "        if x in vowels:\n",
    "            isvow +=1\n",
    "            vowel.append(x)\n",
    "        else:\n",
    "            iscons += 1\n",
    "            consonants.append(x)\n",
    "print(\"\\n\\nNumber of vowels is: \",isvow, \"\\nThe vowels are\", ','.join(vowel[:]))\n",
    "print(\"\\nNumber of vowels is: \",iscons, \"\\nThe consonants are\", ','.join(consonants[:]))"
   ]
  },
  {
   "cell_type": "markdown",
   "metadata": {},
   "source": [
    "- Prompt a user for 2 words and check if pallindrome or not"
   ]
  },
  {
   "cell_type": "code",
   "execution_count": 208,
   "metadata": {},
   "outputs": [
    {
     "name": "stdout",
     "output_type": "stream",
     "text": [
      "Enter the first word: madam\n",
      "\n",
      "\n",
      "Is a Pallindrome\n"
     ]
    }
   ],
   "source": [
    "a = input('Enter the first word: ').lower()\n",
    "b = list(a)\n",
    "\n",
    "if a == ''.join(b[::-1]):\n",
    "    print('\\n\\nIs a Pallindrome')\n",
    "else:\n",
    "    print('Not a pallindrome')"
   ]
  },
  {
   "cell_type": "markdown",
   "metadata": {},
   "source": [
    "<font black = maroon>SORTING LISTS"
   ]
  },
  {
   "cell_type": "code",
   "execution_count": 92,
   "metadata": {},
   "outputs": [
    {
     "data": {
      "text/plain": [
       "[2, 4, 6, 9, 17, 18]"
      ]
     },
     "execution_count": 92,
     "metadata": {},
     "output_type": "execute_result"
    }
   ],
   "source": [
    "L = [2,18,9,4,6,17]\n",
    "L.sort()\n",
    "L"
   ]
  },
  {
   "cell_type": "code",
   "execution_count": 93,
   "metadata": {},
   "outputs": [
    {
     "data": {
      "text/plain": [
       "[18, 17, 9, 6, 4, 2]"
      ]
     },
     "execution_count": 93,
     "metadata": {},
     "output_type": "execute_result"
    }
   ],
   "source": [
    "L.sort(reverse=True)\n",
    "L"
   ]
  },
  {
   "cell_type": "markdown",
   "metadata": {},
   "source": [
    "<font black = maroon>SORT versus SORTED"
   ]
  },
  {
   "cell_type": "code",
   "execution_count": 99,
   "metadata": {},
   "outputs": [],
   "source": [
    "A = [1,10,24]\n",
    "B = A.sort()\n",
    "B"
   ]
  },
  {
   "cell_type": "code",
   "execution_count": 100,
   "metadata": {},
   "outputs": [
    {
     "data": {
      "text/plain": [
       "[1, 10, 24]"
      ]
     },
     "execution_count": 100,
     "metadata": {},
     "output_type": "execute_result"
    }
   ],
   "source": [
    "A = [1,10,24]\n",
    "B = sorted(A)\n",
    "B"
   ]
  },
  {
   "cell_type": "markdown",
   "metadata": {},
   "source": [
    "<font black = maroon>SHADOW COPYING"
   ]
  },
  {
   "cell_type": "code",
   "execution_count": 102,
   "metadata": {},
   "outputs": [
    {
     "name": "stdout",
     "output_type": "stream",
     "text": [
      "['Apple', 'Orange', 'Banana'] ['Apple', 'Orange', 'Banana']\n"
     ]
    }
   ],
   "source": [
    "A = [\"Apple\",\"Orange\",\"Banana\"]\n",
    "B = A\n",
    "print(A,B)"
   ]
  },
  {
   "cell_type": "code",
   "execution_count": 104,
   "metadata": {},
   "outputs": [
    {
     "name": "stdout",
     "output_type": "stream",
     "text": [
      "['PineApple', 'Orange', 'Banana'] ['PineApple', 'Orange', 'Banana']\n"
     ]
    }
   ],
   "source": [
    "A[0] = \"PineApple\"\n",
    "print(A,B)"
   ]
  },
  {
   "cell_type": "markdown",
   "metadata": {},
   "source": [
    "Note the difference now- when copying through [:]"
   ]
  },
  {
   "cell_type": "code",
   "execution_count": 105,
   "metadata": {},
   "outputs": [
    {
     "name": "stdout",
     "output_type": "stream",
     "text": [
      "['Apple', 'Orange', 'Banana'] ['Apple', 'Orange', 'Banana']\n"
     ]
    }
   ],
   "source": [
    "A = [\"Apple\",\"Orange\",\"Banana\"]\n",
    "B = A[:]\n",
    "print(A,B)"
   ]
  },
  {
   "cell_type": "code",
   "execution_count": 106,
   "metadata": {},
   "outputs": [
    {
     "name": "stdout",
     "output_type": "stream",
     "text": [
      "['PineApple', 'Orange', 'Banana'] ['Apple', 'Orange', 'Banana']\n"
     ]
    }
   ],
   "source": [
    "A[0] = \"PineApple\"\n",
    "print(A,B)"
   ]
  },
  {
   "cell_type": "markdown",
   "metadata": {},
   "source": [
    "List Comprehension"
   ]
  },
  {
   "cell_type": "markdown",
   "metadata": {},
   "source": [
    "Through Loops"
   ]
  },
  {
   "cell_type": "code",
   "execution_count": 33,
   "metadata": {},
   "outputs": [
    {
     "data": {
      "text/plain": [
       "[10, 9, 11, 6, 4]"
      ]
     },
     "execution_count": 33,
     "metadata": {},
     "output_type": "execute_result"
    }
   ],
   "source": [
    "L1 = ['Automobile','furniture','accessories','garden','pool']\n",
    "L2 = []\n",
    "\n",
    "for x in L1:\n",
    "    L2.append(len(x))\n",
    "    \n",
    "L2"
   ]
  },
  {
   "cell_type": "markdown",
   "metadata": {},
   "source": [
    "Functional Loops"
   ]
  },
  {
   "cell_type": "code",
   "execution_count": 34,
   "metadata": {},
   "outputs": [
    {
     "name": "stdout",
     "output_type": "stream",
     "text": [
      "['Automobile', 'furniture', 'accessories', 'garden', 'pool']\n"
     ]
    }
   ],
   "source": [
    "L1 = ['Automobile','furniture','accessories','garden','pool']\n",
    "L2 = [len(x) for x in L1]\n",
    "print(L1)"
   ]
  },
  {
   "cell_type": "markdown",
   "metadata": {},
   "source": [
    "Iterate across two lists simultaneously"
   ]
  },
  {
   "cell_type": "code",
   "execution_count": 36,
   "metadata": {},
   "outputs": [
    {
     "name": "stdout",
     "output_type": "stream",
     "text": [
      "Automobile - 10\n",
      "furniture - 9\n",
      "accessories - 11\n",
      "garden - 6\n",
      "pool - 4\n"
     ]
    }
   ],
   "source": [
    "L1 = ['Automobile','furniture','accessories','garden','pool']\n",
    "L2 = [len(x) for x in L1]\n",
    "\n",
    "for i,j in zip(L1,L2):\n",
    "    print(i, \"-\", j)"
   ]
  },
  {
   "cell_type": "markdown",
   "metadata": {},
   "source": [
    "DICTIONARY\n",
    "             \n",
    "A key-value, un-ordered, mutable collection of Objects.\n",
    "    \n",
    "    \n",
    "Properties\n",
    "    \n",
    "- Used to hold a key/value pair.\n",
    "- A dictionary is enclosed within curly braces\n",
    "- A key is separated from its associate value by a colon (:)\n",
    "- Each key/value pair is separated from one another by a comma(,)\n",
    "- List preserves the order is which data was inserted, Dictionary does not. \n",
    "- we extract a value by referencing its associated key.\n",
    "\n",
    "    \n",
    "    "
   ]
  },
  {
   "attachments": {
    "di.PNG": {
     "image/png": "[encoded data removed]"
    }
   },
   "cell_type": "markdown",
   "metadata": {},
   "source": [
    "![di.PNG](attachment:di.PNG)"
   ]
  },
  {
   "cell_type": "code",
   "execution_count": 48,
   "metadata": {},
   "outputs": [
    {
     "data": {
      "text/plain": [
       "{}"
      ]
     },
     "execution_count": 48,
     "metadata": {},
     "output_type": "execute_result"
    }
   ],
   "source": [
    "#An empty dictionary\n",
    "d = {}\n",
    "d"
   ]
  },
  {
   "cell_type": "code",
   "execution_count": 49,
   "metadata": {},
   "outputs": [
    {
     "data": {
      "text/plain": [
       "{'a': 1, 'b': 2, 'c': 3, 'd': 4}"
      ]
     },
     "execution_count": 49,
     "metadata": {},
     "output_type": "execute_result"
    }
   ],
   "source": [
    "d = {'a':1,'b':2,'c':3,'d':4}\n",
    "d"
   ]
  },
  {
   "attachments": {
    "ops.PNG": {
     "image/png": "[encoded data removed]"
    }
   },
   "cell_type": "markdown",
   "metadata": {},
   "source": [
    "![ops.PNG](attachment:ops.PNG)"
   ]
  },
  {
   "cell_type": "markdown",
   "metadata": {},
   "source": [
    "Prompt user for an input an print the frequency of occurence of each letter as a key value pai"
   ]
  },
  {
   "cell_type": "code",
   "execution_count": 51,
   "metadata": {},
   "outputs": [
    {
     "name": "stdout",
     "output_type": "stream",
     "text": [
      "Enter a wordhippopotamus\n",
      "{'h': 1, 'i': 1, 'p': 3, 'o': 2, 't': 1, 'a': 1, 'm': 1, 'u': 1, 's': 1}\n"
     ]
    }
   ],
   "source": [
    "word = input(\"Enter a word\")\n",
    "d = {}\n",
    "for k in word:\n",
    "    if k not in d:\n",
    "        d[k] = 1\n",
    "    else:\n",
    "        d[k] += 1\n",
    "print(d)"
   ]
  },
  {
   "cell_type": "markdown",
   "metadata": {},
   "source": [
    "Iterate through the elements of a Dictionary using found. Items() method\n"
   ]
  },
  {
   "cell_type": "code",
   "execution_count": 53,
   "metadata": {},
   "outputs": [
    {
     "name": "stdout",
     "output_type": "stream",
     "text": [
      "Enter the word hippopotamus\n",
      "a appeared 1 times\n",
      "e appeared 0 times\n",
      "i appeared 1 times\n",
      "o appeared 2 times\n",
      "u appeared 1 times\n"
     ]
    }
   ],
   "source": [
    "word = input(\"Enter the word \")\n",
    "vowels = ['a','e','i','o','u']\n",
    "found = {}\n",
    "found['a'] = 0\n",
    "found['e'] = 0\n",
    "found['i'] = 0\n",
    "found['o'] = 0\n",
    "found['u'] = 0\n",
    "for k in word:\n",
    "    if k in vowels:\n",
    "        found[k] += 1\n",
    "for k, v in found.items():\n",
    "    print(k, \"appeared\", v, \"times\")"
   ]
  },
  {
   "cell_type": "markdown",
   "metadata": {},
   "source": [
    "Above, we created an empty dictionary and initialized the elements in the dictionary to \n",
    "Zero. At run-time, the value gets incremented by 1 – upon a successful match.\n",
    "\n",
    "What if the number of elements to be matched against, run in hundreds ?, initializing a dictionary might not make much Sense – check the below code  and the usage of setdefault() method to circumvent the problem.\n"
   ]
  },
  {
   "cell_type": "code",
   "execution_count": 54,
   "metadata": {},
   "outputs": [
    {
     "name": "stdout",
     "output_type": "stream",
     "text": [
      "Enter the word hippopotamus\n",
      "i appeared 1 times\n",
      "o appeared 2 times\n",
      "a appeared 1 times\n",
      "u appeared 1 times\n"
     ]
    }
   ],
   "source": [
    "word = input(\"Enter the word \")\n",
    "vowels = ['a','e','i','o','u']\n",
    "found = {}\n",
    "for k in word:\n",
    "    if k in vowels:\n",
    "        found.setdefault(k,0)\n",
    "        found[k] += 1\n",
    "for k, v in found.items():\n",
    "    print(k, \"appeared\", v, \"times\")"
   ]
  },
  {
   "cell_type": "markdown",
   "metadata": {},
   "source": [
    " Dictionary Comprehension"
   ]
  },
  {
   "cell_type": "code",
   "execution_count": 88,
   "metadata": {},
   "outputs": [],
   "source": [
    "L1 = ['Automobile','furniture','accessories','garden','pool']"
   ]
  },
  {
   "cell_type": "markdown",
   "metadata": {},
   "source": [
    "Create a dictionary from the above list suh that key is value from the above list and associated value length\n"
   ]
  },
  {
   "cell_type": "code",
   "execution_count": 89,
   "metadata": {},
   "outputs": [
    {
     "data": {
      "text/plain": [
       "{'Automobile': 10, 'furniture': 9, 'accessories': 11, 'garden': 6, 'pool': 4}"
      ]
     },
     "execution_count": 89,
     "metadata": {},
     "output_type": "execute_result"
    }
   ],
   "source": [
    "L2 = {x:len(x) for x in L1}\n",
    "L2"
   ]
  },
  {
   "cell_type": "markdown",
   "metadata": {},
   "source": [
    "SETS\n",
    "       \n",
    "A collection of unique mutable Objects.\n",
    "    \n",
    "    \n",
    "    \n",
    "- A collection of objects, separated by comma and enclosed within curly braces\n",
    "- Like Lists and dictionary, Sets can grow and shrink in size\n",
    "- Duplicate values are not permitted in a set.\n",
    "- Sets can perform operations such as difference, intersection and union.\n",
    "- Sets do not support indexing\n"
   ]
  },
  {
   "cell_type": "code",
   "execution_count": 56,
   "metadata": {},
   "outputs": [
    {
     "name": "stdout",
     "output_type": "stream",
     "text": [
      "{'a', 'i', 'o', 'p', 's', 'm', 't', 'h', 'u'}\n"
     ]
    }
   ],
   "source": [
    "#Converting a String to set returns the elements within curly brackets and duplicates omitted.\n",
    "word = \"hippopotamus\"\n",
    "print(set(word))"
   ]
  },
  {
   "cell_type": "markdown",
   "metadata": {},
   "source": [
    "<font color = black>OPERATIONS ON SETS"
   ]
  },
  {
   "cell_type": "markdown",
   "metadata": {},
   "source": [
    "Union\n",
    "\n",
    "Elements in set a and set b"
   ]
  },
  {
   "cell_type": "code",
   "execution_count": 59,
   "metadata": {},
   "outputs": [
    {
     "data": {
      "text/plain": [
       "{'a', 'b', 'e', 'l', 'n', 'p'}"
      ]
     },
     "execution_count": 59,
     "metadata": {},
     "output_type": "execute_result"
    }
   ],
   "source": [
    "word1 = set(\"apple\")\n",
    "word2 = set(\"banana\")\n",
    "word1.union(word2)"
   ]
  },
  {
   "cell_type": "markdown",
   "metadata": {},
   "source": [
    "Intersection\n",
    "\n",
    "Elements common to two sets"
   ]
  },
  {
   "cell_type": "code",
   "execution_count": 60,
   "metadata": {},
   "outputs": [
    {
     "data": {
      "text/plain": [
       "{'a'}"
      ]
     },
     "execution_count": 60,
     "metadata": {},
     "output_type": "execute_result"
    }
   ],
   "source": [
    "word1 = set(\"apple\")\n",
    "word2 = set(\"banana\")\n",
    "word1.intersection(word2)"
   ]
  },
  {
   "cell_type": "markdown",
   "metadata": {},
   "source": [
    "Difference\n",
    "\n",
    "Elements present in the first set and not in the second set"
   ]
  },
  {
   "cell_type": "code",
   "execution_count": 62,
   "metadata": {},
   "outputs": [
    {
     "data": {
      "text/plain": [
       "{'e', 'l', 'p'}"
      ]
     },
     "execution_count": 62,
     "metadata": {},
     "output_type": "execute_result"
    }
   ],
   "source": [
    "word1 = set(\"apple\")\n",
    "word2 = set(\"banana\")\n",
    "word1.difference(word2)"
   ]
  },
  {
   "cell_type": "markdown",
   "metadata": {},
   "source": [
    "Symmetric Difference\n",
    "\n",
    "Symmetric difference between 2 sets A and B; returns the elements of A that are nor present in B and elements of B that are not present in A\n",
    "Elements common to both A and B are discarded\n"
   ]
  },
  {
   "cell_type": "code",
   "execution_count": 63,
   "metadata": {},
   "outputs": [
    {
     "name": "stdout",
     "output_type": "stream",
     "text": [
      "{1, 2, 3, 4, 5, 6, 7, 8}\n"
     ]
    }
   ],
   "source": [
    "a = {2,4,6,8}\n",
    "b = {1,3,5,7}\n",
    "print(a^b)"
   ]
  },
  {
   "cell_type": "markdown",
   "metadata": {},
   "source": [
    "set.discard()\n",
    "\n",
    "- Built-in method\n",
    "- Removes the element from the set only if the element is present in the set. \n",
    "- If the element is not present in the set, then no error or exception is raised, and the original set is printed\n"
   ]
  },
  {
   "cell_type": "code",
   "execution_count": 65,
   "metadata": {},
   "outputs": [
    {
     "data": {
      "text/plain": [
       "{2, 6, 8}"
      ]
     },
     "execution_count": 65,
     "metadata": {},
     "output_type": "execute_result"
    }
   ],
   "source": [
    "a = {2,4,6,8}\n",
    "a.discard(4)\n",
    "a"
   ]
  },
  {
   "cell_type": "code",
   "execution_count": 66,
   "metadata": {},
   "outputs": [
    {
     "data": {
      "text/plain": [
       "{2, 4, 6, 8}"
      ]
     },
     "execution_count": 66,
     "metadata": {},
     "output_type": "execute_result"
    }
   ],
   "source": [
    "a = {2,4,6,8}\n",
    "a.discard(9)\n",
    "a"
   ]
  },
  {
   "cell_type": "markdown",
   "metadata": {},
   "source": [
    "set.remove()\n",
    "\n",
    "- Built-in method\n",
    "- removes the element from the set only if the element is  present in the set, \n",
    "- If the element is not present in the set, then an error or exception is raised\n"
   ]
  },
  {
   "cell_type": "code",
   "execution_count": 67,
   "metadata": {},
   "outputs": [
    {
     "data": {
      "text/plain": [
       "{2, 6, 8}"
      ]
     },
     "execution_count": 67,
     "metadata": {},
     "output_type": "execute_result"
    }
   ],
   "source": [
    "a = {2,4,6,8}\n",
    "a.remove(4)\n",
    "a"
   ]
  },
  {
   "cell_type": "code",
   "execution_count": 69,
   "metadata": {},
   "outputs": [
    {
     "ename": "KeyError",
     "evalue": "9",
     "output_type": "error",
     "traceback": [
      "\u001b[1;31m---------------------------------------------------------------------------\u001b[0m",
      "\u001b[1;31mKeyError\u001b[0m                                  Traceback (most recent call last)",
      "\u001b[1;32m<ipython-input-69-19563fa52be0>\u001b[0m in \u001b[0;36m<module>\u001b[1;34m\u001b[0m\n\u001b[0;32m      1\u001b[0m \u001b[0ma\u001b[0m \u001b[1;33m=\u001b[0m \u001b[1;33m{\u001b[0m\u001b[1;36m2\u001b[0m\u001b[1;33m,\u001b[0m\u001b[1;36m4\u001b[0m\u001b[1;33m,\u001b[0m\u001b[1;36m6\u001b[0m\u001b[1;33m,\u001b[0m\u001b[1;36m8\u001b[0m\u001b[1;33m}\u001b[0m\u001b[1;33m\u001b[0m\u001b[1;33m\u001b[0m\u001b[0m\n\u001b[1;32m----> 2\u001b[1;33m \u001b[0ma\u001b[0m\u001b[1;33m.\u001b[0m\u001b[0mremove\u001b[0m\u001b[1;33m(\u001b[0m\u001b[1;36m9\u001b[0m\u001b[1;33m)\u001b[0m\u001b[1;33m\u001b[0m\u001b[1;33m\u001b[0m\u001b[0m\n\u001b[0m\u001b[0;32m      3\u001b[0m \u001b[0ma\u001b[0m\u001b[1;33m\u001b[0m\u001b[1;33m\u001b[0m\u001b[0m\n",
      "\u001b[1;31mKeyError\u001b[0m: 9"
     ]
    }
   ],
   "source": [
    "a = {2,4,6,8}\n",
    "a.remove(9)\n",
    "a"
   ]
  },
  {
   "cell_type": "markdown",
   "metadata": {},
   "source": [
    "set.add()\n",
    "\n",
    "Adds a given element to a set if the element is not present in the set.\n"
   ]
  },
  {
   "cell_type": "code",
   "execution_count": 70,
   "metadata": {},
   "outputs": [
    {
     "data": {
      "text/plain": [
       "{2, 4, 6, 8, 9}"
      ]
     },
     "execution_count": 70,
     "metadata": {},
     "output_type": "execute_result"
    }
   ],
   "source": [
    "a = {2,4,6,8}\n",
    "a.add(9)\n",
    "a"
   ]
  },
  {
   "cell_type": "code",
   "execution_count": 71,
   "metadata": {},
   "outputs": [
    {
     "data": {
      "text/plain": [
       "{2, 4, 6, 8}"
      ]
     },
     "execution_count": 71,
     "metadata": {},
     "output_type": "execute_result"
    }
   ],
   "source": [
    "a = {2,4,6,8}\n",
    "a.add(6)\n",
    "a"
   ]
  },
  {
   "cell_type": "markdown",
   "metadata": {},
   "source": [
    "set.clear()\n",
    "\n",
    "clear() method removes all elements from the set.\n"
   ]
  },
  {
   "cell_type": "code",
   "execution_count": 72,
   "metadata": {},
   "outputs": [
    {
     "data": {
      "text/plain": [
       "set()"
      ]
     },
     "execution_count": 72,
     "metadata": {},
     "output_type": "execute_result"
    }
   ],
   "source": [
    "a = {2,4,6,8}\n",
    "a.clear()\n",
    "a"
   ]
  },
  {
   "cell_type": "markdown",
   "metadata": {},
   "source": [
    "Set Comprehension"
   ]
  },
  {
   "cell_type": "code",
   "execution_count": 39,
   "metadata": {},
   "outputs": [
    {
     "data": {
      "text/plain": [
       "{'a', 'i'}"
      ]
     },
     "execution_count": 39,
     "metadata": {},
     "output_type": "execute_result"
    }
   ],
   "source": [
    "month = \"april\"\n",
    "vowels = {x for x in month if x in \"aeiou\"}\n",
    "vowels"
   ]
  },
  {
   "cell_type": "markdown",
   "metadata": {},
   "source": [
    "TUPLES\n",
    "    \n",
    "A collection of immutable Objects  \n",
    "    \n",
    "\n",
    "    \n",
    "- A collection of objects, separated by comma and enclosed within round braces\n",
    "- The elements are immutable\n",
    "- Duplicate values are permitted in a tuple.\n",
    "- Rule – If the data in your structure never changed – put that in a tuple.\n",
    "- The forward and backward index in Tuples work similar to Lists\n",
    "\n"
   ]
  },
  {
   "attachments": {
    "tup.PNG": {
     "image/png": "[encoded data removed]"
    }
   },
   "cell_type": "markdown",
   "metadata": {},
   "source": [
    "![tup.PNG](attachment:tup.PNG)"
   ]
  },
  {
   "cell_type": "markdown",
   "metadata": {},
   "source": [
    "Tuple Assignment (packing/unpacking)\n",
    "\n",
    "Tuple assignment offers a powerful feature of assigning values to multiple variables in one-go. It involves 2 steps\n",
    "- Tuple Packing\n",
    "- Tuple un-packing\n",
    "\n",
    "Items to the left must match items to the right."
   ]
  },
  {
   "cell_type": "code",
   "execution_count": 73,
   "metadata": {},
   "outputs": [],
   "source": [
    "#Tuple Paking\n",
    "Student = (\"Bob\",24,\"CSE\",2004)"
   ]
  },
  {
   "cell_type": "code",
   "execution_count": 74,
   "metadata": {},
   "outputs": [],
   "source": [
    "#Tuple Unpacking\n",
    "(Name,Age,Specialization,Year)=Student"
   ]
  },
  {
   "cell_type": "code",
   "execution_count": 75,
   "metadata": {},
   "outputs": [
    {
     "data": {
      "text/plain": [
       "'Bob'"
      ]
     },
     "execution_count": 75,
     "metadata": {},
     "output_type": "execute_result"
    }
   ],
   "source": [
    "#Read the variables\n",
    "Name"
   ]
  },
  {
   "cell_type": "code",
   "execution_count": 76,
   "metadata": {},
   "outputs": [
    {
     "data": {
      "text/plain": [
       "24"
      ]
     },
     "execution_count": 76,
     "metadata": {},
     "output_type": "execute_result"
    }
   ],
   "source": [
    "Age"
   ]
  },
  {
   "cell_type": "code",
   "execution_count": 77,
   "metadata": {},
   "outputs": [
    {
     "data": {
      "text/plain": [
       "'CSE'"
      ]
     },
     "execution_count": 77,
     "metadata": {},
     "output_type": "execute_result"
    }
   ],
   "source": [
    "Specialization"
   ]
  },
  {
   "cell_type": "code",
   "execution_count": 78,
   "metadata": {},
   "outputs": [
    {
     "data": {
      "text/plain": [
       "2004"
      ]
     },
     "execution_count": 78,
     "metadata": {},
     "output_type": "execute_result"
    }
   ],
   "source": [
    "Year"
   ]
  },
  {
   "cell_type": "markdown",
   "metadata": {},
   "source": [
    "Operations of Tuples"
   ]
  },
  {
   "cell_type": "markdown",
   "metadata": {},
   "source": [
    "Arithmetic Operations"
   ]
  },
  {
   "cell_type": "code",
   "execution_count": 79,
   "metadata": {},
   "outputs": [],
   "source": [
    "a = (1,2,3,4,5,6,7,8)"
   ]
  },
  {
   "cell_type": "code",
   "execution_count": 81,
   "metadata": {},
   "outputs": [
    {
     "data": {
      "text/plain": [
       "1"
      ]
     },
     "execution_count": 81,
     "metadata": {},
     "output_type": "execute_result"
    }
   ],
   "source": [
    "min(a)"
   ]
  },
  {
   "cell_type": "code",
   "execution_count": 82,
   "metadata": {},
   "outputs": [
    {
     "data": {
      "text/plain": [
       "8"
      ]
     },
     "execution_count": 82,
     "metadata": {},
     "output_type": "execute_result"
    }
   ],
   "source": [
    "max(a)"
   ]
  },
  {
   "cell_type": "code",
   "execution_count": 83,
   "metadata": {},
   "outputs": [
    {
     "data": {
      "text/plain": [
       "36"
      ]
     },
     "execution_count": 83,
     "metadata": {},
     "output_type": "execute_result"
    }
   ],
   "source": [
    "sum(a)"
   ]
  },
  {
   "cell_type": "markdown",
   "metadata": {},
   "source": [
    "Concatenation of Tuples"
   ]
  },
  {
   "cell_type": "code",
   "execution_count": 85,
   "metadata": {},
   "outputs": [
    {
     "data": {
      "text/plain": [
       "('what', 'is', 'the', 'day', 'today?', 'It', 'is', 'monday')"
      ]
     },
     "execution_count": 85,
     "metadata": {},
     "output_type": "execute_result"
    }
   ],
   "source": [
    "a = (\"what\",\"is\",\"the\",\"day\",\"today?\")\n",
    "b = (\"It\",\"is\",\"monday\")\n",
    "c = a+b\n",
    "c"
   ]
  },
  {
   "cell_type": "markdown",
   "metadata": {},
   "source": [
    "Concatenation of Tuples -- \n",
    "When using the sorted function against a tuple; a list is returned as the output of the sort\n"
   ]
  },
  {
   "cell_type": "code",
   "execution_count": 87,
   "metadata": {},
   "outputs": [
    {
     "data": {
      "text/plain": [
       "[-2, 1, 3, 4, 6, 9]"
      ]
     },
     "execution_count": 87,
     "metadata": {},
     "output_type": "execute_result"
    }
   ],
   "source": [
    "t = (-2,3,1,4,6,9)\n",
    "sorted(t)"
   ]
  },
  {
   "cell_type": "markdown",
   "metadata": {},
   "source": [
    "STRINGS\n",
    "\n",
    "An immutable sequence of characters "
   ]
  },
  {
   "cell_type": "code",
   "execution_count": 109,
   "metadata": {},
   "outputs": [
    {
     "data": {
      "text/plain": [
       "str"
      ]
     },
     "execution_count": 109,
     "metadata": {},
     "output_type": "execute_result"
    }
   ],
   "source": [
    "#Any object within double quaotes is a string\n",
    "month = \"April\"\n",
    "type(month)"
   ]
  },
  {
   "attachments": {
    "indexstr.PNG": {
     "image/png": "[encoded data removed]"
    }
   },
   "cell_type": "markdown",
   "metadata": {},
   "source": [
    "![indexstr.PNG](attachment:indexstr.PNG)"
   ]
  },
  {
   "cell_type": "markdown",
   "metadata": {},
   "source": [
    "Length of a string"
   ]
  },
  {
   "cell_type": "code",
   "execution_count": 110,
   "metadata": {},
   "outputs": [
    {
     "data": {
      "text/plain": [
       "5"
      ]
     },
     "execution_count": 110,
     "metadata": {},
     "output_type": "execute_result"
    }
   ],
   "source": [
    "len(month)"
   ]
  },
  {
   "cell_type": "markdown",
   "metadata": {},
   "source": [
    "IN Operator -- \n",
    "A Boolean operator that takes in two strings and returns true if the first string is a substring in the second\n"
   ]
  },
  {
   "cell_type": "code",
   "execution_count": 112,
   "metadata": {},
   "outputs": [
    {
     "data": {
      "text/plain": [
       "True"
      ]
     },
     "execution_count": 112,
     "metadata": {},
     "output_type": "execute_result"
    }
   ],
   "source": [
    "'i' in 'April'"
   ]
  },
  {
   "cell_type": "code",
   "execution_count": 113,
   "metadata": {},
   "outputs": [
    {
     "data": {
      "text/plain": [
       "False"
      ]
     },
     "execution_count": 113,
     "metadata": {},
     "output_type": "execute_result"
    }
   ],
   "source": [
    "'b' in 'April'"
   ]
  },
  {
   "cell_type": "markdown",
   "metadata": {},
   "source": [
    "Dir method - List out all methods associated with a string"
   ]
  },
  {
   "cell_type": "code",
   "execution_count": 114,
   "metadata": {},
   "outputs": [
    {
     "data": {
      "text/plain": [
       "str"
      ]
     },
     "execution_count": 114,
     "metadata": {},
     "output_type": "execute_result"
    }
   ],
   "source": [
    "type(month)"
   ]
  },
  {
   "cell_type": "code",
   "execution_count": 116,
   "metadata": {},
   "outputs": [
    {
     "name": "stdout",
     "output_type": "stream",
     "text": [
      "['__add__', '__class__', '__contains__', '__delattr__', '__dir__', '__doc__', '__eq__', '__format__', '__ge__', '__getattribute__', '__getitem__', '__getnewargs__', '__gt__', '__hash__', '__init__', '__init_subclass__', '__iter__', '__le__', '__len__', '__lt__', '__mod__', '__mul__', '__ne__', '__new__', '__reduce__', '__reduce_ex__', '__repr__', '__rmod__', '__rmul__', '__setattr__', '__sizeof__', '__str__', '__subclasshook__', 'capitalize', 'casefold', 'center', 'count', 'encode', 'endswith', 'expandtabs', 'find', 'format', 'format_map', 'index', 'isalnum', 'isalpha', 'isascii', 'isdecimal', 'isdigit', 'isidentifier', 'islower', 'isnumeric', 'isprintable', 'isspace', 'istitle', 'isupper', 'join', 'ljust', 'lower', 'lstrip', 'maketrans', 'partition', 'replace', 'rfind', 'rindex', 'rjust', 'rpartition', 'rsplit', 'rstrip', 'split', 'splitlines', 'startswith', 'strip', 'swapcase', 'title', 'translate', 'upper', 'zfill']\n"
     ]
    }
   ],
   "source": [
    "print(dir(str))"
   ]
  },
  {
   "cell_type": "markdown",
   "metadata": {},
   "source": [
    "To understand a method further "
   ]
  },
  {
   "cell_type": "code",
   "execution_count": 124,
   "metadata": {},
   "outputs": [
    {
     "name": "stdout",
     "output_type": "stream",
     "text": [
      "Help on method_descriptor:\n",
      "\n",
      "rfind(...)\n",
      "    S.rfind(sub[, start[, end]]) -> int\n",
      "    \n",
      "    Return the highest index in S where substring sub is found,\n",
      "    such that sub is contained within S[start:end].  Optional\n",
      "    arguments start and end are interpreted as in slice notation.\n",
      "    \n",
      "    Return -1 on failure.\n",
      "\n"
     ]
    }
   ],
   "source": [
    "help(str.rfind)"
   ]
  },
  {
   "cell_type": "markdown",
   "metadata": {},
   "source": [
    "Parsing Strings\n",
    "\n",
    "Assume, there is a string \"I received an email at 19:45 from hello@gmail.com and was asked to\"; and we are\n",
    "asked to extract the hostname i.e gmail.com"
   ]
  },
  {
   "cell_type": "code",
   "execution_count": 118,
   "metadata": {},
   "outputs": [],
   "source": [
    "S = \"I received an email at 19:45 from hello@gmail.com and was asked to\""
   ]
  },
  {
   "cell_type": "code",
   "execution_count": 129,
   "metadata": {},
   "outputs": [
    {
     "data": {
      "text/plain": [
       "39"
      ]
     },
     "execution_count": 129,
     "metadata": {},
     "output_type": "execute_result"
    }
   ],
   "source": [
    "#index position where @ appears\n",
    "start = S.find('@')\n",
    "start"
   ]
  },
  {
   "cell_type": "code",
   "execution_count": 130,
   "metadata": {},
   "outputs": [
    {
     "data": {
      "text/plain": [
       "49"
      ]
     },
     "execution_count": 130,
     "metadata": {},
     "output_type": "execute_result"
    }
   ],
   "source": [
    "#index position of the first ' ' from the @ symbol\n",
    "end = S.find(' ',start)\n",
    "end"
   ]
  },
  {
   "cell_type": "code",
   "execution_count": 132,
   "metadata": {},
   "outputs": [
    {
     "data": {
      "text/plain": [
       "'gmail.com'"
      ]
     },
     "execution_count": 132,
     "metadata": {},
     "output_type": "execute_result"
    }
   ],
   "source": [
    "#start+1 to omit the @\n",
    "S[start+1:end]"
   ]
  },
  {
   "cell_type": "markdown",
   "metadata": {},
   "source": [
    "Extract all e-mail hostnames (@abcbank.com) from the string ---- \n",
    "To: Micolayout OperationsHead Micolayout.OperationsHead@abcbank.com>;\n",
    "Cc: Man Gede <Man.Gede@abcbank.com>; relul Oda <reloda32@gmail.com>;\n",
    " esh ary <esh.ary@abcbank.com>; Micolayout Branchhead <Micolayout.Branchhead@abcbank.com>;"
   ]
  },
  {
   "cell_type": "code",
   "execution_count": 147,
   "metadata": {},
   "outputs": [
    {
     "name": "stdout",
     "output_type": "stream",
     "text": [
      "@abcbank.com>;\n",
      "@abcbank.com;\n",
      "@gmail.com;\n",
      "@abcbank.com;\n",
      "@abcbank.com\n"
     ]
    }
   ],
   "source": [
    "data = \" To: Micolayout OperationsHead Micolayout.OperationsHead@abcbank.com>; Cc: Man Gede Man.Gede@abcbank.com; relul Oda reloda32@gmail.com; esh ary esh.ary@abcbank.com; Micolayout Branchhead Micolayout.Branchhead@abcbank.com;\"\n",
    "start =[]\n",
    "end = []\n",
    "for i in range(len(data)):\n",
    "    if data[i] == '@':\n",
    "        start.append(i)\n",
    "        \n",
    "for i in start:\n",
    "    end.append(data.find(' ',i))\n",
    "    \n",
    "if len(start)== len(end):\n",
    "    for i in range(len(start)):\n",
    "        print(data[start[i]:end[i]])\n",
    "else:\n",
    "    print(\"something went wrong with fetching the values\")\n",
    "    "
   ]
  },
  {
   "cell_type": "markdown",
   "metadata": {},
   "source": [
    "<font color = blue>**Working with FILE system** \n",
    "    \n"
   ]
  },
  {
   "attachments": {
    "File-handle.PNG": {
     "image/png": "[encoded data removed]"
    }
   },
   "cell_type": "markdown",
   "metadata": {},
   "source": [
    "![File-handle.PNG](attachment:File-handle.PNG)"
   ]
  },
  {
   "cell_type": "markdown",
   "metadata": {},
   "source": [
    "The very first step when working with a file system involves locating the file and getting a handle to the file"
   ]
  },
  {
   "cell_type": "markdown",
   "metadata": {},
   "source": [
    "Reading from a File"
   ]
  },
  {
   "cell_type": "code",
   "execution_count": 158,
   "metadata": {},
   "outputs": [
    {
     "data": {
      "text/plain": [
       "<_io.TextIOWrapper name='C:\\\\demofiles.txt' mode='r' encoding='cp1252'>"
      ]
     },
     "execution_count": 158,
     "metadata": {},
     "output_type": "execute_result"
    }
   ],
   "source": [
    "#the file is located in my local machine, in the C drive\n",
    "fhand = open('C:\\demofiles.txt')\n",
    "fhand"
   ]
  },
  {
   "cell_type": "markdown",
   "metadata": {},
   "source": [
    "Once the file opens up successfully, the next steps involves exploring the contents of the file. \n",
    "Some files may be huge and might run into gigabytes (often beyond the size of main memory). \n",
    "\n",
    "If we aren’t sure of the file size, use a for loop to explore through the file. In layman terms – this implies- iterate through every line of the file and add 1 to count\n"
   ]
  },
  {
   "cell_type": "code",
   "execution_count": 159,
   "metadata": {},
   "outputs": [
    {
     "name": "stdout",
     "output_type": "stream",
     "text": [
      "The number of lines is:  8\n"
     ]
    }
   ],
   "source": [
    "fhand = open('C:\\demofiles.txt')\n",
    "count = 0\n",
    "for line in fhand:\n",
    "    count += 1\n",
    "print(\"The number of lines is: \", count)"
   ]
  },
  {
   "cell_type": "markdown",
   "metadata": {},
   "source": [
    "If we are aware that file is small, we could read the entire content of into a string - \"inp\", in this case.\n"
   ]
  },
  {
   "cell_type": "code",
   "execution_count": 161,
   "metadata": {},
   "outputs": [
    {
     "name": "stdout",
     "output_type": "stream",
     "text": [
      "This summer, offices are generally opening on an optional basis and will \n",
      "open with more expectations for workers to be present this fall. \n",
      "This means most flexibility will go to knowledge workers. These high-skilled workers,\n",
      "whose jobs are mediated by computers, will be much more likely than before \n",
      "this pandemic to be allowed to work from home at least some of the time in whatâ€™s\n",
      "called the hybrid work model. But everything from which employees can work \n",
      "from home to the number of days they can do so will depend on a number of\n",
      "factors, including their job, company, and industry. \n",
      "\n",
      "This pandemic has proved to be a bane for most and boon for a few.\n"
     ]
    }
   ],
   "source": [
    "fhand = open('C:\\demofiles.txt')\n",
    "inp= fhand.read()\n",
    "print(inp)"
   ]
  },
  {
   "cell_type": "markdown",
   "metadata": {},
   "source": [
    "Filter Data of Interest"
   ]
  },
  {
   "cell_type": "markdown",
   "metadata": {},
   "source": [
    "Print lines that start with 'This'"
   ]
  },
  {
   "cell_type": "code",
   "execution_count": 162,
   "metadata": {},
   "outputs": [
    {
     "name": "stdout",
     "output_type": "stream",
     "text": [
      "This summer, offices are generally opening on an optional basis and will \n",
      "\n",
      "This means most flexibility will go to knowledge workers. These high-skilled workers,\n",
      "\n",
      "This pandemic has proved to be a bane for most and boon for a few.\n"
     ]
    }
   ],
   "source": [
    "fhand = open('C:\\demofiles.txt')\n",
    "for line in fhand:\n",
    "    if line.startswith('This'):\n",
    "        print(line)"
   ]
  },
  {
   "cell_type": "markdown",
   "metadata": {},
   "source": [
    "Removing the spaces/whitelines in between and print "
   ]
  },
  {
   "cell_type": "code",
   "execution_count": 167,
   "metadata": {},
   "outputs": [
    {
     "name": "stdout",
     "output_type": "stream",
     "text": [
      "This summer, offices are generally opening on an optional basis and will\n",
      "This means most flexibility will go to knowledge workers. These high-skilled workers,\n",
      "This pandemic has proved to be a bane for most and boon for a few.\n"
     ]
    }
   ],
   "source": [
    "fhand = open('C:\\demofiles.txt')\n",
    "for line in fhand:\n",
    "    line = line.strip()\n",
    "    if line.startswith('This'):\n",
    "        print(line)"
   ]
  },
  {
   "cell_type": "markdown",
   "metadata": {},
   "source": [
    "Writing to a File\n",
    "\n",
    "To write into a file, it needs to be opened in ‘w’ mode (passed as a second parameter).\n",
    "If the file already exists, opening it in write mode clears out the old data and starts fresh (so be careful)\n",
    "\n",
    "\n",
    "- The write method writes data into the file returning the numbers of characters written\n",
    "- The write method does not append a newline(\\n) automatically \n",
    "- Once done writing, close the file to ensure last bit of data is physically written to the disk (so it does     not evaporate if the power goes off).\n"
   ]
  },
  {
   "cell_type": "markdown",
   "metadata": {},
   "source": [
    "- Open a file in write mode"
   ]
  },
  {
   "cell_type": "code",
   "execution_count": 178,
   "metadata": {},
   "outputs": [
    {
     "name": "stdout",
     "output_type": "stream",
     "text": [
      "<_io.TextIOWrapper name='D:\\\\demofiles1.txt' mode='w' encoding='cp1252'>\n"
     ]
    }
   ],
   "source": [
    "fout = open('D:\\demofiles1.txt','w')\n",
    "print(fout)"
   ]
  },
  {
   "cell_type": "markdown",
   "metadata": {},
   "source": [
    "- Write into the file.\n",
    "- Once the write is executed, it returns the count of characters written into the file\n"
   ]
  },
  {
   "cell_type": "code",
   "execution_count": 179,
   "metadata": {},
   "outputs": [
    {
     "data": {
      "text/plain": [
       "40"
      ]
     },
     "execution_count": 179,
     "metadata": {},
     "output_type": "execute_result"
    }
   ],
   "source": [
    "fout.write(\"Ok! now, we start writing into the file.\")"
   ]
  },
  {
   "cell_type": "markdown",
   "metadata": {},
   "source": [
    "- I write some more stuff into the file"
   ]
  },
  {
   "cell_type": "code",
   "execution_count": 180,
   "metadata": {},
   "outputs": [
    {
     "data": {
      "text/plain": [
       "47"
      ]
     },
     "execution_count": 180,
     "metadata": {},
     "output_type": "execute_result"
    }
   ],
   "source": [
    "fout.write(\"I would like to add some more content into you.\")"
   ]
  },
  {
   "cell_type": "markdown",
   "metadata": {},
   "source": [
    "- Once done writing-close the file"
   ]
  },
  {
   "cell_type": "code",
   "execution_count": 181,
   "metadata": {},
   "outputs": [],
   "source": [
    "fout.close()"
   ]
  },
  {
   "cell_type": "markdown",
   "metadata": {},
   "source": [
    "Append to a File\n",
    "\n",
    "\n",
    "- The file is created if it does not exist. \n",
    "- The handle is positioned at the end of the file. \n",
    "- The data being written will be inserted at the end, after the existing data.\n"
   ]
  },
  {
   "cell_type": "markdown",
   "metadata": {},
   "source": [
    "- Open the file ia append more - 'a'"
   ]
  },
  {
   "cell_type": "code",
   "execution_count": 182,
   "metadata": {},
   "outputs": [],
   "source": [
    "fhand = open('D:\\demofiles1.txt','a')"
   ]
  },
  {
   "cell_type": "markdown",
   "metadata": {},
   "source": [
    "- write to the file"
   ]
  },
  {
   "cell_type": "code",
   "execution_count": 183,
   "metadata": {},
   "outputs": [
    {
     "data": {
      "text/plain": [
       "50"
      ]
     },
     "execution_count": 183,
     "metadata": {},
     "output_type": "execute_result"
    }
   ],
   "source": [
    "fhand.write(\"\\n Oh! and I forgot to add some more stuff into you\")"
   ]
  },
  {
   "cell_type": "markdown",
   "metadata": {},
   "source": [
    "- close the handle"
   ]
  },
  {
   "cell_type": "code",
   "execution_count": 184,
   "metadata": {},
   "outputs": [],
   "source": [
    "fhand.close()"
   ]
  },
  {
   "cell_type": "markdown",
   "metadata": {},
   "source": [
    "Let us do a check to see if all the write and append reflects in the contents"
   ]
  },
  {
   "cell_type": "code",
   "execution_count": 185,
   "metadata": {},
   "outputs": [
    {
     "name": "stdout",
     "output_type": "stream",
     "text": [
      "Ok! now, we start writing into the file.I would like to add some more content into you.\n",
      "Oh! and I forgot to add some more stuff into you\n"
     ]
    }
   ],
   "source": [
    "fhand = open('D:\\demofiles1.txt')\n",
    "for line in fhand:\n",
    "    line = line.strip()\n",
    "    print(line)"
   ]
  },
  {
   "attachments": {
    "modes.PNG": {
     "image/png": "[encoded data removed]"
    }
   },
   "cell_type": "markdown",
   "metadata": {},
   "source": [
    "![modes.PNG](attachment:modes.PNG)"
   ]
  },
  {
   "cell_type": "markdown",
   "metadata": {},
   "source": [
    "REGULAR EXPRESSIONS\n",
    "\n",
    "Regular expression is a sequence of characters that define a search pattern, using features of ‘re’ module in Python, we can filter out data of our Interest with minimal code.\n"
   ]
  },
  {
   "cell_type": "markdown",
   "metadata": {},
   "source": [
    "We shall use the previous file C:\\demofiles.txt'"
   ]
  },
  {
   "cell_type": "markdown",
   "metadata": {},
   "source": [
    "- Print lines that end with 'of'"
   ]
  },
  {
   "cell_type": "code",
   "execution_count": 193,
   "metadata": {},
   "outputs": [
    {
     "name": "stdout",
     "output_type": "stream",
     "text": [
      "from home to the number of days they can do so will depend on a number of\n"
     ]
    }
   ],
   "source": [
    "import re\n",
    "fhand = open('C:\\demofiles.txt')\n",
    "for line in fhand:\n",
    "    line = line.strip()\n",
    "    if re.search(\"of\\Z\",line):\n",
    "        print(line)"
   ]
  },
  {
   "cell_type": "markdown",
   "metadata": {},
   "source": [
    "- Print lines that contain the word employees or computers in it"
   ]
  },
  {
   "cell_type": "code",
   "execution_count": 194,
   "metadata": {},
   "outputs": [
    {
     "name": "stdout",
     "output_type": "stream",
     "text": [
      "whose jobs are mediated by computers, will be much more likely than before\n",
      "called the hybrid work model. But everything from which employees can work\n"
     ]
    }
   ],
   "source": [
    "import re\n",
    "fhand = open('C:\\demofiles.txt')\n",
    "for line in fhand:\n",
    "    line = line.strip()\n",
    "    if re.search('employees|computers',line):\n",
    "        print(line)"
   ]
  },
  {
   "cell_type": "markdown",
   "metadata": {},
   "source": [
    "- Print lines that start with a \"This\""
   ]
  },
  {
   "cell_type": "code",
   "execution_count": 197,
   "metadata": {},
   "outputs": [
    {
     "name": "stdout",
     "output_type": "stream",
     "text": [
      "This summer, offices are generally opening on an optional basis and will\n",
      "This means most flexibility will go to knowledge workers. These high-skilled workers,\n",
      "This pandemic has proved to be a bane for most and boon for a few.\n"
     ]
    }
   ],
   "source": [
    "import re\n",
    "fhand = open('C:\\demofiles.txt')\n",
    "for line in fhand:\n",
    "    line = line.strip()\n",
    "    if re.search(\"\\AThis\",line):\n",
    "        print(line)"
   ]
  },
  {
   "cell_type": "markdown",
   "metadata": {},
   "source": [
    "Various features offered by Regular expressions- The below guide may come in handy"
   ]
  },
  {
   "attachments": {
    "m1.PNG": {
     "image/png": "[encoded data removed]"
    }
   },
   "cell_type": "markdown",
   "metadata": {},
   "source": [
    "![m1.PNG](attachment:m1.PNG)\n"
   ]
  },
  {
   "attachments": {
    "m2.PNG": {
     "image/png": "[encoded data removed]"
    }
   },
   "cell_type": "markdown",
   "metadata": {},
   "source": [
    "![m2.PNG](attachment:m2.PNG)"
   ]
  },
  {
   "attachments": {
    "m.PNG": {
     "image/png": "[encoded data removed]"
    }
   },
   "cell_type": "markdown",
   "metadata": {},
   "source": [
    "![m.PNG](attachment:m.PNG)"
   ]
  },
  {
   "cell_type": "markdown",
   "metadata": {},
   "source": [
    "LAMBDA FUNCTIONS"
   ]
  },
  {
   "cell_type": "markdown",
   "metadata": {},
   "source": [
    "\n",
    "A lambda function is a function that contains  a single expression, It helps execute seemingly complicated tasks with one liners of code.   \n",
    "\n",
    "- A Lambda Function in Python programming is an anonymous function or a function with no name. \n",
    "- It is a small and restricted function with no more than one line.\n",
    "- Just like a normal function, a Lambda function can have multiple arguments with one expression.\n",
    "- Every lambda function in Python has 3 essential parts:\n",
    "  - The lambda keyword. \n",
    "  - The parameters (or bound variables)\n",
    "  - The function body.\n",
    "- The syntax for writing a lambda is: lambda parameter: expression \n",
    "- Lambdas can have any number of parameters, but they are not enclosed in braces. \n",
    "- A lambda can have only 1 expression in its function body, which is returned by default.\n",
    "- Lambdas support IIFE (immediately invoked function execution) \n",
    "- Lambdas are commonly used with the following python built-ins: Filter Map Reduce \n",
    "\n"
   ]
  },
  {
   "cell_type": "markdown",
   "metadata": {},
   "source": [
    "Example of a Lambda Function"
   ]
  },
  {
   "cell_type": "code",
   "execution_count": 3,
   "metadata": {},
   "outputs": [
    {
     "data": {
      "text/plain": [
       "'CHRISTIANO'"
      ]
     },
     "execution_count": 3,
     "metadata": {},
     "output_type": "execute_result"
    }
   ],
   "source": [
    "Soccer = ['Christiano','Salah','Messi']\n",
    "\n",
    "f = lambda x: x.upper()\n",
    "f('Christiano')"
   ]
  },
  {
   "cell_type": "code",
   "execution_count": 12,
   "metadata": {},
   "outputs": [
    {
     "data": {
      "text/plain": [
       "['CHRISTIANO', 'SALAH', 'MESSI']"
      ]
     },
     "execution_count": 12,
     "metadata": {},
     "output_type": "execute_result"
    }
   ],
   "source": [
    "Soccer = ['Christiano','Salah','Messi']\n",
    "capital_soccer=[]\n",
    "for player in Soccer:\n",
    "    capital_soccer.append(f(player))\n",
    "\n",
    "capital_soccer "
   ]
  },
  {
   "cell_type": "markdown",
   "metadata": {},
   "source": [
    "MAP"
   ]
  },
  {
   "cell_type": "markdown",
   "metadata": {},
   "source": [
    "map(function,iterable object)"
   ]
  },
  {
   "cell_type": "markdown",
   "metadata": {},
   "source": [
    "The length of O/P is same as the length of I/P"
   ]
  },
  {
   "cell_type": "markdown",
   "metadata": {},
   "source": [
    "\n",
    "- The map() function in Python takes in a function and a list as argument. \n",
    "- The function is called with a lambda function and a list\n",
    "- It returns a new list with the function applied to it\n",
    "- The length of the i/p is the same as the length of the o/p\n"
   ]
  },
  {
   "cell_type": "code",
   "execution_count": 18,
   "metadata": {},
   "outputs": [
    {
     "data": {
      "text/plain": [
       "map"
      ]
     },
     "execution_count": 18,
     "metadata": {},
     "output_type": "execute_result"
    }
   ],
   "source": [
    "#create a map - map(lambda function,iterable object)\n",
    "map(lambda x : x.upper(), Soccer)"
   ]
  },
  {
   "cell_type": "code",
   "execution_count": 19,
   "metadata": {},
   "outputs": [
    {
     "data": {
      "text/plain": [
       "['CHRISTIANO', 'SALAH', 'MESSI']"
      ]
     },
     "execution_count": 19,
     "metadata": {},
     "output_type": "execute_result"
    }
   ],
   "source": [
    "#Apply the map funtion to the list\n",
    "list(map(lambda x : x.upper(), Soccer))"
   ]
  },
  {
   "cell_type": "markdown",
   "metadata": {},
   "source": [
    "Calling a function and lambda function within a map expressions"
   ]
  },
  {
   "cell_type": "code",
   "execution_count": 21,
   "metadata": {},
   "outputs": [
    {
     "data": {
      "text/plain": [
       "[4, 16, 36]"
      ]
     },
     "execution_count": 21,
     "metadata": {},
     "output_type": "execute_result"
    }
   ],
   "source": [
    "L = [2,4,6]\n",
    "f = (lambda x : x**2)\n",
    "list(map(f,L))"
   ]
  },
  {
   "cell_type": "code",
   "execution_count": 22,
   "metadata": {},
   "outputs": [
    {
     "data": {
      "text/plain": [
       "[4, 16, 36]"
      ]
     },
     "execution_count": 22,
     "metadata": {},
     "output_type": "execute_result"
    }
   ],
   "source": [
    "L = [2,4,6]\n",
    "def square(n):\n",
    "    return n**2\n",
    "\n",
    "list(map(square,L))"
   ]
  },
  {
   "cell_type": "markdown",
   "metadata": {},
   "source": [
    " <font color = black>FILTER"
   ]
  },
  {
   "cell_type": "markdown",
   "metadata": {},
   "source": [
    "filter(function,iterable object)"
   ]
  },
  {
   "cell_type": "markdown",
   "metadata": {},
   "source": [
    "In most cases -the output is a subset of the input"
   ]
  },
  {
   "cell_type": "markdown",
   "metadata": {},
   "source": [
    "\n",
    "A filter takes in two takes 2 parameters:\n",
    "\n",
    "- A function that defines the filtering condition\n",
    "- A sequence (any iterator like lists, tuples, etc.)\n"
   ]
  },
  {
   "cell_type": "markdown",
   "metadata": {},
   "source": [
    "Find the multiples of 3 from a given list"
   ]
  },
  {
   "cell_type": "code",
   "execution_count": 25,
   "metadata": {},
   "outputs": [
    {
     "data": {
      "text/plain": [
       "[3, 6, 9]"
      ]
     },
     "execution_count": 25,
     "metadata": {},
     "output_type": "execute_result"
    }
   ],
   "source": [
    "#the list in question\n",
    "L = [1,2,3,4,5,6,7,8,9]\n",
    "\n",
    "#lambda function\n",
    "div = lambda x : x%3 == 0\n",
    "\n",
    "#creating a filter\n",
    "div = filter(f,L)\n",
    "\n",
    "#applying flter to the list\n",
    "list(div)\n"
   ]
  },
  {
   "cell_type": "markdown",
   "metadata": {},
   "source": [
    "Apply filter to a dictionary"
   ]
  },
  {
   "cell_type": "code",
   "execution_count": 36,
   "metadata": {},
   "outputs": [
    {
     "data": {
      "text/plain": [
       "2"
      ]
     },
     "execution_count": 36,
     "metadata": {},
     "output_type": "execute_result"
    }
   ],
   "source": [
    "'''\n",
    "From the below dictionary; find the number of students with age greater than 18\n",
    "'''\n",
    "\n",
    "students_data = {1:['Sam', 15] , 2:['Rob',18], 3:['Kyle', 16], 4:['Cornor',19], 5:['Trump',20]}\n",
    "#Informational - To fetch the key value pair- use students_data.values()\n",
    "\n",
    "#subset the values from the key value pair and define a function\n",
    "\n",
    "gr18 = lambda x : x[1] > 18\n",
    "\n",
    "#create the filter \n",
    "\n",
    "filter(gr18,students_data.values())\n",
    "\n",
    "#extract the result of filter into a list\n",
    "\n",
    "list((filter(f,students_data.values())))\n",
    "\n",
    "#To find the cont of students with age greater than 18- do a len of list\n",
    "\n",
    "len(list((filter(f,students_data.values()))))\n"
   ]
  },
  {
   "cell_type": "markdown",
   "metadata": {},
   "source": [
    " <font color = black>REDUCE"
   ]
  },
  {
   "cell_type": "markdown",
   "metadata": {},
   "source": [
    " reduce(function,iterable object)"
   ]
  },
  {
   "cell_type": "markdown",
   "metadata": {},
   "source": [
    "\n",
    "Reduce is used for pair wise operation -\n",
    "Steps followed by the reduce() function to compute an output:\n",
    "\n",
    "- Perform the defined operation on the first 2 elements of the sequence.\n",
    "- Save this result\n",
    "- Perform the operation with the saved result and the next element in the sequence.\n",
    "- Repeat until no more elements are left.\n",
    "\n",
    "It also takes two parameters:\n",
    "\n",
    "- A function that defines the operation to be performed\n",
    "- A sequence (any iterator like lists, tuples, Pandas series etc.)\n",
    "\n"
   ]
  },
  {
   "cell_type": "code",
   "execution_count": 40,
   "metadata": {},
   "outputs": [
    {
     "data": {
      "text/plain": [
       "362880"
      ]
     },
     "execution_count": 40,
     "metadata": {},
     "output_type": "execute_result"
    }
   ],
   "source": [
    "#The reduce() function is defined in the ‘functools’ module. Hence, we need to import functools\n",
    "from functools import reduce\n",
    "\n",
    "#The list in question\n",
    "L = [1,2,3,4,5,6,7,8,9]\n",
    "\n",
    "#define the lambda function - remeber this is going to be a pair-wise operation\n",
    "f = lambda x,y : x*y\n",
    "\n",
    "#dry run of the function\n",
    "f(2,3)\n",
    "\n",
    "#cal the function with reduce\n",
    "reduce(f,L)"
   ]
  },
  {
   "cell_type": "markdown",
   "metadata": {},
   "source": [
    "Find factorial of a given number - note 0! =1 "
   ]
  },
  {
   "cell_type": "code",
   "execution_count": 6,
   "metadata": {},
   "outputs": [
    {
     "name": "stdout",
     "output_type": "stream",
     "text": [
      "Enter a number: 5\n",
      "120\n"
     ]
    }
   ],
   "source": [
    "from functools import reduce\n",
    "n = int(input(\"Enter a number: \"))\n",
    "inp = range(1, n+1)\n",
    "\n",
    "\n",
    "if n == 0:\n",
    "    print(1)\n",
    "else:\n",
    "    ans = reduce(lambda x, y: x*y,inp)\n",
    "    print(ans)"
   ]
  },
  {
   "cell_type": "code",
   "execution_count": null,
   "metadata": {},
   "outputs": [],
   "source": []
  }
 ],
 "metadata": {
  "kernelspec": {
   "display_name": "Python 3",
   "language": "python",
   "name": "python3"
  },
  "language_info": {
   "codemirror_mode": {
    "name": "ipython",
    "version": 3
   },
   "file_extension": ".py",
   "mimetype": "text/x-python",
   "name": "python",
   "nbconvert_exporter": "python",
   "pygments_lexer": "ipython3",
   "version": "3.8.5"
  }
 },
 "nbformat": 4,
 "nbformat_minor": 4
}
